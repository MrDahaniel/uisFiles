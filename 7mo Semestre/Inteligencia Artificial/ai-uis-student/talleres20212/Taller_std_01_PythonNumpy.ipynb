{
  "nbformat": 4,
  "nbformat_minor": 0,
  "metadata": {
    "colab": {
      "name": "Taller_std_01-PythonNumpy.ipynb",
      "provenance": [],
      "collapsed_sections": []
    },
    "kernelspec": {
      "name": "python3",
      "display_name": "Python 3"
    },
    "language_info": {
      "name": "python"
    }
  },
  "cells": [
    {
      "cell_type": "markdown",
      "metadata": {
        "id": "uGUEZRJxrUfA"
      },
      "source": [
        "<img src=\"https://gitlab.com/bivl2ab/academico/cursos-uis/ai/ai-uis-student/raw/master/imgs/banner_IA.png\"  width=\"1000px\" height=\"200px\">\n",
        "\n",
        "# **Taller 01:  Python and Numpy**\n",
        "\n",
        "## **Outline**\n",
        "\n",
        "1. [Exercise 1. python](#eje1)\n",
        "2. [Exercise 2. python](#eje2)\n",
        "2. [Exercise 3. numpy](#eje3)\n",
        "2. [Exercise 4. numpy](#eje4)\n",
        "2. [Exercise 5. numpy](#eje5)"
      ]
    },
    {
      "cell_type": "code",
      "metadata": {
        "cellView": "form",
        "id": "Eyzd86nGrLkv",
        "colab": {
          "base_uri": "https://localhost:8080/",
          "height": 35
        },
        "outputId": "a73c4fa0-5b17-456b-be9b-22f814964f18"
      },
      "source": [
        "#@title **Execute this cell**\n",
        "#@markdown Please include your student id\n",
        "import sys\n",
        "import inspect\n",
        "\n",
        "group_id = \"H2\" #@param {type:\"string\"}\n",
        "assignment_id = 'ai1-'+group_id +'.20212.python'\n",
        "code_subject = '1'\n",
        "student_id = \"2210\" #@param {type:\"string\"}\n",
        "\"\"\"\n",
        "Put your student ID here\n",
        "\n",
        "Example: student_id =  '2152145'\n",
        "\"\"\" "
      ],
      "execution_count": 1,
      "outputs": [
        {
          "output_type": "execute_result",
          "data": {
            "application/vnd.google.colaboratory.intrinsic+json": {
              "type": "string"
            },
            "text/plain": [
              "\"\\nPut your student ID here\\n\\nExample: student_id =  '2152145'\\n\""
            ]
          },
          "metadata": {},
          "execution_count": 1
        }
      ]
    },
    {
      "cell_type": "code",
      "metadata": {
        "cellView": "form",
        "id": "vF9FTR5Atp70"
      },
      "source": [
        "#@title **Execute this cell**\n",
        "#@markdown **UTILS**\n",
        "#@markdown Please dont modify any line in this cell\n",
        "\n",
        "import os\n",
        "import json\n",
        "import requests\n",
        "from collections import namedtuple\n",
        "\n",
        "\n",
        "Config = namedtuple('Config', ['server_name', 'course_name', 'student_id'])\n",
        "config = Config(server_name='https://azuregrader.azurewebsites.net/api', \n",
        "                course_name='ai1', student_id='2162107')\n",
        "\n",
        "\n",
        "def check_solution(assignment_id, student_func_str):\n",
        "\n",
        "    # Set the endpoint and payload.\n",
        "    payload = {'func_str': student_func_str, 'assignment_id': assignment_id}\n",
        "    endpoint_url = config.server_name + '/CheckSolution'\n",
        "    # print(endpoint_url)\n",
        "\n",
        "    # Make request to server with the data coming from the notebook.\n",
        "    r = requests.get(endpoint_url, params=payload)\n",
        "    pprint_json_response(r.json())\n",
        "    return r\n",
        "\n",
        "\n",
        "def check_solution_and_evaluate(assignment_id: str, student_func_str: str):\n",
        "\n",
        "    # Set the endpoint and payload.\n",
        "    payload = {\n",
        "        'func_str': student_func_str,\n",
        "        'assignment_id': assignment_id,\n",
        "        'student_id': student_id\n",
        "    }\n",
        "    endpoint_url = config.server_name + '/CheckAndEvaluateSolution'\n",
        "    # print(endpoint_url)\n",
        "\n",
        "    # Make request to server with the data coming from the notebook.\n",
        "    r = requests.post(endpoint_url, params=payload)\n",
        "    pprint_json_response(r.json())\n",
        "    return r\n",
        "\n",
        "\n",
        "def pprint_json_response(response, indent=0):\n",
        "    \"\"\"Pretty print the response.\"\"\"\n",
        "    for key, value in response.items():\n",
        "        print('\\t' * indent + str(key.capitalize()))\n",
        "\n",
        "        # If dictionary, do a recurrent call.\n",
        "        if isinstance(value, dict):\n",
        "            pprint_json_response(value, indent + 1)\n",
        "        else:\n",
        "            # Enumerate elements if list.\n",
        "            if isinstance(value, list):\n",
        "                if len(value) == 1:\n",
        "                    print('\\t' * (indent + 1) + str(value[0]))\n",
        "                else:\n",
        "                    for i, e in enumerate(value, start=1):\n",
        "                        print('\\t' * (indent + 1) + f'{i}. {e}')\n",
        "            else:\n",
        "                print('\\t' * (indent + 1) + str(value))"
      ],
      "execution_count": 2,
      "outputs": []
    },
    {
      "cell_type": "markdown",
      "metadata": {
        "id": "Bm8Lc06xtys2"
      },
      "source": [
        "---\n",
        "# **Exercise 1**  <a name=\"eje1\"></a>\n",
        "\n",
        "Given any list of int numbers, create a dictionary where the `keys` are the unique numbers in list and the `values` are the frequency (ocurrence in the list). The keys from the dictionary must be sorted ascending.\n",
        "- Return the dictionary\n",
        "\n",
        "For instance: \n",
        "```\n",
        "list example:\n",
        "[0, 1, 0, 1, 1, 2, 0, 2, 0, 0]\n",
        "dictionary returned\n",
        "{0: 5, 1: 3, 2: 2}\n",
        "```\n",
        "\n",
        "\n",
        "---"
      ]
    },
    {
      "cell_type": "code",
      "metadata": {
        "id": "LmSyvi8at7hn"
      },
      "source": [
        "def unique_values_dictionary(data):\n",
        "    \"\"\"Put your code here\"\"\"\n",
        "    \n",
        "    pass"
      ],
      "execution_count": null,
      "outputs": []
    },
    {
      "cell_type": "code",
      "metadata": {
        "id": "xIeHhkQzt9cA",
        "cellView": "form"
      },
      "source": [
        "#@title **check your answer**\n",
        "student_func_str = inspect.getsource(unique_values_dictionary)\n",
        "r = check_solution(assignment_id, student_func_str) "
      ],
      "execution_count": null,
      "outputs": []
    },
    {
      "cell_type": "code",
      "metadata": {
        "id": "OIyYcIzb5YuU",
        "cellView": "form"
      },
      "source": [
        "#@title **send your answer**\n",
        "student_func_str = inspect.getsource(unique_values_dictionary)\n",
        "r = check_solution_and_evaluate(assignment_id, student_func_str) "
      ],
      "execution_count": null,
      "outputs": []
    },
    {
      "cell_type": "markdown",
      "metadata": {
        "id": "qAX0TE0ht81m"
      },
      "source": [
        "---\n",
        "# **Exercise 2**  <a name=\"eje2\"></a>\n",
        "\n",
        "- Create a function that returns `True` if the value is in the data list, otherwise return `False`\n",
        "\n",
        "```\n",
        "value = 0\n",
        "data = [1, 2, 3, 4]\n",
        "\n",
        "return False because value is not in data\n",
        "```\n",
        "---"
      ]
    },
    {
      "cell_type": "code",
      "metadata": {
        "id": "O9MHOb5JuEVR"
      },
      "source": [
        "def check_if_list_contains_value(data, value):\n",
        "    \"\"\"Put your code here\"\"\"\n",
        "    \n",
        "    pass"
      ],
      "execution_count": null,
      "outputs": []
    },
    {
      "cell_type": "code",
      "metadata": {
        "cellView": "form",
        "id": "t8G_TodW93Re"
      },
      "source": [
        "#@title **check your answer**\n",
        "student_func_str = inspect.getsource(check_if_list_contains_value)\n",
        "r = check_solution(assignment_id, student_func_str) "
      ],
      "execution_count": null,
      "outputs": []
    },
    {
      "cell_type": "code",
      "metadata": {
        "cellView": "form",
        "id": "rssGM_-393G5"
      },
      "source": [
        "#@title **send your answer**\n",
        "student_func_str = inspect.getsource(check_if_list_contains_value)\n",
        "r = check_solution_and_evaluate(assignment_id, student_func_str) "
      ],
      "execution_count": null,
      "outputs": []
    },
    {
      "cell_type": "markdown",
      "metadata": {
        "id": "N6zdjAfDuFT4"
      },
      "source": [
        "---\n",
        "# **Exercise 3**  <a name=\"eje3\"></a>\n",
        "\n",
        "Given a threshold number (`threshold`) and a numpy array (`array`), the function should return a new array of the same size that `array` with 0's or 1's depending if the value is lower or greater. An example is:\n",
        "```\n",
        "threshold = 0.5\n",
        "array = array([[0.5488135 , 0.71518937, 0.60276338, 0.54488318],\n",
        "               [0.4236548 , 0.64589411, 0.43758721, 0.891773  ],\n",
        "               [0.96366276, 0.38344152, 0.79172504, 0.52889492],\n",
        "               [0.56804456, 0.92559664, 0.07103606, 0.0871293 ]])\n",
        "return array([[1, 1, 1, 1],\n",
        "              [0, 1, 0, 1],\n",
        "              [1, 0, 1, 1],\n",
        "              [1, 1, 0, 0]])\n",
        "```\n",
        "---"
      ]
    },
    {
      "cell_type": "code",
      "metadata": {
        "id": "PpJX08QlBaaw"
      },
      "source": [
        "def mask_array(array, threshold):\n",
        "    \"\"\"Put your code here\"\"\"\n",
        "    \n",
        "    pass"
      ],
      "execution_count": null,
      "outputs": []
    },
    {
      "cell_type": "code",
      "metadata": {
        "id": "Ekn2eJ1NBaNX",
        "cellView": "form"
      },
      "source": [
        "#@title **check your answer**\n",
        "student_func_str = inspect.getsource(mask_array)\n",
        "r = check_solution(assignment_id, student_func_str) "
      ],
      "execution_count": null,
      "outputs": []
    },
    {
      "cell_type": "code",
      "metadata": {
        "id": "Wir8pYzEBikq",
        "cellView": "form"
      },
      "source": [
        "#@title **send your answer**\n",
        "student_func_str = inspect.getsource(mask_array)\n",
        "r = check_solution_and_evaluate(assignment_id, student_func_str) "
      ],
      "execution_count": null,
      "outputs": []
    },
    {
      "cell_type": "markdown",
      "metadata": {
        "id": "rccBlLdTuIbq"
      },
      "source": [
        "---\n",
        "# **Exercise 4**  <a name=\"eje4\"></a>\n",
        "\n",
        "Given two arrays with integer values, compare each pair elements between the arrays and return an float number that represent a proportion of coincidences. In such case 0.0 is not coincidences and 1.0 is fully coincidences of all values between arrays. \n",
        "\n",
        "**This function simulate the computation of the accuracy metric, probably the most common index in machine learning to validate the performance of one model** In such case, one array represent the real values and the other arrat represent the predictions given by our model. Enjoy!. See an example: \n",
        "\n",
        "```\n",
        "true_values = [0 1 0 1 1 2 0 2 0 0 0 2 1 2 2 0 1 1 1 1]\n",
        "predictions =  [0 1 0 0 1 2 0 2 0 1 1 2 0 1 1 1 0 2 0 2]\n",
        "\n",
        "return 0.45\n",
        "```\n",
        "---"
      ]
    },
    {
      "cell_type": "code",
      "metadata": {
        "id": "262OFtGeEnXC"
      },
      "source": [
        "def accuracy_numpy(true_values, predictions):\n",
        "    \"\"\"Put your code here\"\"\"\n",
        "    \n",
        "    pass"
      ],
      "execution_count": null,
      "outputs": []
    },
    {
      "cell_type": "code",
      "metadata": {
        "cellView": "form",
        "id": "PiCeWF9UEzVL"
      },
      "source": [
        "#@title **check your answer**\n",
        "student_func_str = inspect.getsource(accuracy_numpy)\n",
        "r = check_solution(assignment_id, student_func_str) "
      ],
      "execution_count": null,
      "outputs": []
    },
    {
      "cell_type": "code",
      "metadata": {
        "cellView": "form",
        "id": "9vT0Rc-DEzIB"
      },
      "source": [
        "#@title **send your answer**\n",
        "student_func_str = inspect.getsource(accuracy_numpy)\n",
        "r = check_solution_and_evaluate(assignment_id, student_func_str)"
      ],
      "execution_count": null,
      "outputs": []
    },
    {
      "cell_type": "markdown",
      "metadata": {
        "id": "zlPD3YEZuLCi"
      },
      "source": [
        "---\n",
        "# **Exercise 5**  <a name=\"eje5\"></a>\n",
        "\n",
        "Typically in data analytics, we have two arrays:    \n",
        "- $\\text{samples}\\in \\mathbb{R}^{N \\times F}$\n",
        "- $\\text{labels}\\in \\mathbb{N}^{N}$\n",
        "\n",
        "where $N$ are the rows that correspond to samples and $F$ are the columns that correspond to the features. \n",
        "\n",
        "So, given a dataset made of `samples` and their `labels`, split the dataset in two sets. \n",
        "- The first set should contain the first 70% of the `samples` and  `labels` and the last set the remaining 30%.\n",
        "- See an example: \n",
        "\n",
        "\n",
        "```\n",
        "samples = [0, 1, 2, 3, 4, 5, 6, 7, 8, 9]\n",
        "labels = [0, 0, 0, 0, 1, 1, 0, 1, 1, 0]\n",
        "\n",
        "-- function --\n",
        "samples_first = [0, 1, 2, 3, 4, 5, 6]\n",
        "labels_first = [0, 0, 0, 0, 1, 1, 0]\n",
        "samples_second = [7, 8, 9]\n",
        "labels_second = [1, 1, 0]\n",
        "\n",
        "return samples_first, labels_first, samples_second, labels_second\n",
        "```\n",
        "---"
      ]
    },
    {
      "cell_type": "code",
      "metadata": {
        "id": "4UfWZOVtI0E0"
      },
      "source": [
        "def split_dataset_in_two(samples, labels):\n",
        "    \"\"\"Put your code here\"\"\"\n",
        "    \n",
        "    pass"
      ],
      "execution_count": null,
      "outputs": []
    },
    {
      "cell_type": "code",
      "metadata": {
        "cellView": "form",
        "id": "_0MgbyizIz4G"
      },
      "source": [
        "#@title **check your answer**\n",
        "student_func_str = inspect.getsource(split_dataset_in_two)\n",
        "r = check_solution(assignment_id, student_func_str) "
      ],
      "execution_count": null,
      "outputs": []
    },
    {
      "cell_type": "code",
      "metadata": {
        "cellView": "form",
        "id": "1xexy6KnIzrd"
      },
      "source": [
        "#@title **send your answer**\n",
        "student_func_str = inspect.getsource(split_dataset_in_two)\n",
        "r = check_solution_and_evaluate(assignment_id, student_func_str) "
      ],
      "execution_count": null,
      "outputs": []
    },
    {
      "cell_type": "markdown",
      "metadata": {
        "id": "7Eu9G3tOuO6e"
      },
      "source": [
        "---\n",
        "<img src=\"https://gitlab.com/bivl2ab/academico/cursos-uis/ai/ai-uis-student/raw/master/imgs/bannerThanks.jpg\" alt=\"Drawing\" style=\"width:700px;\"/>"
      ]
    }
  ]
}