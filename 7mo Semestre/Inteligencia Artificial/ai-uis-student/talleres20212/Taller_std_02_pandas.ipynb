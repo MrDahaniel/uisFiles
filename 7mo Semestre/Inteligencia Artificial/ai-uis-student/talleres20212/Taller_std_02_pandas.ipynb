{
  "nbformat": 4,
  "nbformat_minor": 0,
  "metadata": {
    "colab": {
      "name": "Taller_std_02_pandas.ipynb",
      "provenance": [],
      "collapsed_sections": []
    },
    "kernelspec": {
      "name": "python3",
      "display_name": "Python 3"
    },
    "language_info": {
      "name": "python"
    }
  },
  "cells": [
    {
      "cell_type": "markdown",
      "metadata": {
        "id": "uGUEZRJxrUfA"
      },
      "source": [
        "<img src=\"https://gitlab.com/bivl2ab/academico/cursos-uis/ai/ai-uis-student/raw/master/imgs/banner_IA.png\"  width=\"1000px\" height=\"200px\">\n",
        "\n",
        "# **Taller 02:  Pandas**\n",
        "\n",
        "## **Outline**\n",
        "\n",
        "1. [Ejercicio 1.](#eje1)\n",
        "2. [Ejercicio 2.](#eje2)\n",
        "2. [Ejercicio 3.](#eje3)\n",
        "2. [Ejercicio 4.](#eje4)\n",
        "2. [Ejercicio 5.](#eje5)"
      ]
    },
    {
      "cell_type": "code",
      "metadata": {
        "cellView": "form",
        "id": "Eyzd86nGrLkv",
        "colab": {
          "base_uri": "https://localhost:8080/",
          "height": 35
        },
        "outputId": "530cbbde-377e-45a8-ee2c-343b75eac6e7"
      },
      "source": [
        "#@title **Execute this cell**\n",
        "#@markdown Please include your student id\n",
        "import sys\n",
        "import inspect\n",
        "\n",
        "group_id = \"H2\" #@param {type:\"string\"}\n",
        "assignment_id = 'ai1-'+group_id +'.20212.python'\n",
        "code_subject = '1'\n",
        "student_id = \"2210\" #@param {type:\"string\"}\n",
        "\"\"\"\n",
        "Put your student ID here\n",
        "\n",
        "Example: student_id =  '2152145'\n",
        "\"\"\" "
      ],
      "execution_count": 1,
      "outputs": [
        {
          "output_type": "execute_result",
          "data": {
            "application/vnd.google.colaboratory.intrinsic+json": {
              "type": "string"
            },
            "text/plain": [
              "\"\\nPut your student ID here\\n\\nExample: student_id =  '2152145'\\n\""
            ]
          },
          "metadata": {},
          "execution_count": 1
        }
      ]
    },
    {
      "cell_type": "code",
      "metadata": {
        "cellView": "form",
        "id": "vF9FTR5Atp70"
      },
      "source": [
        "#@title **Execute this cell**\n",
        "#@markdown **UTILS**\n",
        "#@markdown Please dont modify any line in this cell\n",
        "\n",
        "import os\n",
        "import json\n",
        "import requests\n",
        "from collections import namedtuple\n",
        "\n",
        "\n",
        "Config = namedtuple('Config', ['server_name', 'course_name', 'student_id'])\n",
        "config = Config(server_name='https://azuregrader.azurewebsites.net/api', \n",
        "                course_name='ai1', student_id='2162107')\n",
        "\n",
        "\n",
        "def check_solution(assignment_id, student_func_str):\n",
        "\n",
        "    # Set the endpoint and payload.\n",
        "    payload = {'func_str': student_func_str, 'assignment_id': assignment_id}\n",
        "    endpoint_url = config.server_name + '/CheckSolution'\n",
        "    # print(endpoint_url)\n",
        "\n",
        "    # Make request to server with the data coming from the notebook.\n",
        "    r = requests.get(endpoint_url, params=payload)\n",
        "    pprint_json_response(r.json())\n",
        "    return r\n",
        "\n",
        "\n",
        "def check_solution_and_evaluate(assignment_id: str, student_func_str: str):\n",
        "\n",
        "    # Set the endpoint and payload.\n",
        "    payload = {\n",
        "        'func_str': student_func_str,\n",
        "        'assignment_id': assignment_id,\n",
        "        'student_id': student_id\n",
        "    }\n",
        "    endpoint_url = config.server_name + '/CheckAndEvaluateSolution'\n",
        "    # print(endpoint_url)\n",
        "\n",
        "    # Make request to server with the data coming from the notebook.\n",
        "    r = requests.post(endpoint_url, params=payload)\n",
        "    pprint_json_response(r.json())\n",
        "    return r\n",
        "\n",
        "\n",
        "def pprint_json_response(response, indent=0):\n",
        "    \"\"\"Pretty print the response.\"\"\"\n",
        "    for key, value in response.items():\n",
        "        print('\\t' * indent + str(key.capitalize()))\n",
        "\n",
        "        # If dictionary, do a recurrent call.\n",
        "        if isinstance(value, dict):\n",
        "            pprint_json_response(value, indent + 1)\n",
        "        else:\n",
        "            # Enumerate elements if list.\n",
        "            if isinstance(value, list):\n",
        "                if len(value) == 1:\n",
        "                    print('\\t' * (indent + 1) + str(value[0]))\n",
        "                else:\n",
        "                    for i, e in enumerate(value, start=1):\n",
        "                        print('\\t' * (indent + 1) + f'{i}. {e}')\n",
        "            else:\n",
        "                print('\\t' * (indent + 1) + str(value))"
      ],
      "execution_count": 2,
      "outputs": []
    },
    {
      "cell_type": "code",
      "metadata": {
        "cellView": "form",
        "id": "qavqcsvoG3Ti"
      },
      "source": [
        "#@title **Import libraries**\n",
        "\n",
        "import pandas as pd\n",
        "import numpy as np"
      ],
      "execution_count": 3,
      "outputs": []
    },
    {
      "cell_type": "code",
      "metadata": {
        "colab": {
          "base_uri": "https://localhost:8080/",
          "height": 81
        },
        "id": "tyKwHrgcHJBo",
        "cellView": "form",
        "outputId": "7f992e8b-ea67-40ab-a3a9-8ef3d4880c57"
      },
      "source": [
        "#@title Los **ejercicios 1 - 2** utilizan el siguiente dataset. \n",
        "#@markdown Cargue los datos y recuerde que están en un dataframe d\n",
        "d = pd.read_csv(\"https://storage.googleapis.com/mledu-datasets/california_housing_train.csv\", sep=\",\")\n",
        "d.head(1)"
      ],
      "execution_count": 4,
      "outputs": [
        {
          "output_type": "execute_result",
          "data": {
            "text/html": [
              "<div>\n",
              "<style scoped>\n",
              "    .dataframe tbody tr th:only-of-type {\n",
              "        vertical-align: middle;\n",
              "    }\n",
              "\n",
              "    .dataframe tbody tr th {\n",
              "        vertical-align: top;\n",
              "    }\n",
              "\n",
              "    .dataframe thead th {\n",
              "        text-align: right;\n",
              "    }\n",
              "</style>\n",
              "<table border=\"1\" class=\"dataframe\">\n",
              "  <thead>\n",
              "    <tr style=\"text-align: right;\">\n",
              "      <th></th>\n",
              "      <th>longitude</th>\n",
              "      <th>latitude</th>\n",
              "      <th>housing_median_age</th>\n",
              "      <th>total_rooms</th>\n",
              "      <th>total_bedrooms</th>\n",
              "      <th>population</th>\n",
              "      <th>households</th>\n",
              "      <th>median_income</th>\n",
              "      <th>median_house_value</th>\n",
              "    </tr>\n",
              "  </thead>\n",
              "  <tbody>\n",
              "    <tr>\n",
              "      <th>0</th>\n",
              "      <td>-114.31</td>\n",
              "      <td>34.19</td>\n",
              "      <td>15.0</td>\n",
              "      <td>5612.0</td>\n",
              "      <td>1283.0</td>\n",
              "      <td>1015.0</td>\n",
              "      <td>472.0</td>\n",
              "      <td>1.4936</td>\n",
              "      <td>66900.0</td>\n",
              "    </tr>\n",
              "  </tbody>\n",
              "</table>\n",
              "</div>"
            ],
            "text/plain": [
              "   longitude  latitude  ...  median_income  median_house_value\n",
              "0    -114.31     34.19  ...         1.4936             66900.0\n",
              "\n",
              "[1 rows x 9 columns]"
            ]
          },
          "metadata": {},
          "execution_count": 4
        }
      ]
    },
    {
      "cell_type": "markdown",
      "metadata": {
        "id": "Bm8Lc06xtys2"
      },
      "source": [
        "---\n",
        "# **Ejercicio 1**  <a name=\"eje1\"></a>\n",
        "---\n",
        "\n",
        "Escriba una función que reciba el dataframe de `california_housing_train`, agrupe los valores por la columna  `total_rooms`. Luego cálcule la media para  la columna `median_house_value`.\n",
        "\n",
        "- Retorne el nuevo dataframe.\n"
      ]
    },
    {
      "cell_type": "code",
      "metadata": {
        "id": "LmSyvi8at7hn"
      },
      "source": [
        "def groupby_dataframe(data):\n",
        "  \"\"\"Put your code here\"\"\"\n",
        "  \n",
        "  pass"
      ],
      "execution_count": null,
      "outputs": []
    },
    {
      "cell_type": "code",
      "metadata": {
        "id": "xIeHhkQzt9cA",
        "cellView": "form"
      },
      "source": [
        "#@title **check your answer**\n",
        "student_func_str = inspect.getsource(groupby_dataframe)\n",
        "r = check_solution(assignment_id, student_func_str) "
      ],
      "execution_count": null,
      "outputs": []
    },
    {
      "cell_type": "code",
      "metadata": {
        "id": "mRcPYG7It9Yn",
        "cellView": "form"
      },
      "source": [
        "#@title **send your answer**\n",
        "student_func_str = inspect.getsource(groupby_dataframe)\n",
        "r = check_solution_and_evaluate(assignment_id, student_func_str) "
      ],
      "execution_count": null,
      "outputs": []
    },
    {
      "cell_type": "markdown",
      "metadata": {
        "id": "qAX0TE0ht81m"
      },
      "source": [
        "---\n",
        "# **Ejercicio 2**  <a name=\"eje2\"></a>\n",
        "---\n",
        "\n",
        "- Escriba una función que reciba el dataframe de `california_housing_train`\n",
        "- Crear un nuevo dataframe que cuyas columnas sean el cálculo de `min`, `max`, `mean` and `std` de cada una de las columnas del dataframe original. \n",
        "- El resultado debe ser un dataframe con 5 columnas, donde la primera,  'nombre de las variables', sea la columna de referencia y las otras 4 los respectivos cálculos.\n",
        "- Retorne el nuevo dataframe"
      ]
    },
    {
      "cell_type": "code",
      "metadata": {
        "id": "O9MHOb5JuEVR",
        "colab": {
          "base_uri": "https://localhost:8080/",
          "height": 332
        },
        "outputId": "2b363e9f-f061-456e-a700-74df754ab5cb"
      },
      "source": [
        "def dataframe_statistics(data):\n",
        "\n",
        "  import pandas as pd\n",
        "  \n",
        "  \"\"\"Put your code here\"\"\"\n",
        "    \n",
        "  pass\n",
        "dataframe_statistics(d)"
      ],
      "execution_count": 13,
      "outputs": [
        {
          "output_type": "execute_result",
          "data": {
            "text/html": [
              "<div>\n",
              "<style scoped>\n",
              "    .dataframe tbody tr th:only-of-type {\n",
              "        vertical-align: middle;\n",
              "    }\n",
              "\n",
              "    .dataframe tbody tr th {\n",
              "        vertical-align: top;\n",
              "    }\n",
              "\n",
              "    .dataframe thead th {\n",
              "        text-align: right;\n",
              "    }\n",
              "</style>\n",
              "<table border=\"1\" class=\"dataframe\">\n",
              "  <thead>\n",
              "    <tr style=\"text-align: right;\">\n",
              "      <th></th>\n",
              "      <th>min</th>\n",
              "      <th>max</th>\n",
              "      <th>mean</th>\n",
              "      <th>std</th>\n",
              "    </tr>\n",
              "  </thead>\n",
              "  <tbody>\n",
              "    <tr>\n",
              "      <th>longitude</th>\n",
              "      <td>-124.3500</td>\n",
              "      <td>-114.3100</td>\n",
              "      <td>-119.562108</td>\n",
              "      <td>2.005166</td>\n",
              "    </tr>\n",
              "    <tr>\n",
              "      <th>latitude</th>\n",
              "      <td>32.5400</td>\n",
              "      <td>41.9500</td>\n",
              "      <td>35.625225</td>\n",
              "      <td>2.137340</td>\n",
              "    </tr>\n",
              "    <tr>\n",
              "      <th>housing_median_age</th>\n",
              "      <td>1.0000</td>\n",
              "      <td>52.0000</td>\n",
              "      <td>28.589353</td>\n",
              "      <td>12.586937</td>\n",
              "    </tr>\n",
              "    <tr>\n",
              "      <th>total_rooms</th>\n",
              "      <td>2.0000</td>\n",
              "      <td>37937.0000</td>\n",
              "      <td>2643.664412</td>\n",
              "      <td>2179.947071</td>\n",
              "    </tr>\n",
              "    <tr>\n",
              "      <th>total_bedrooms</th>\n",
              "      <td>1.0000</td>\n",
              "      <td>6445.0000</td>\n",
              "      <td>539.410824</td>\n",
              "      <td>421.499452</td>\n",
              "    </tr>\n",
              "    <tr>\n",
              "      <th>population</th>\n",
              "      <td>3.0000</td>\n",
              "      <td>35682.0000</td>\n",
              "      <td>1429.573941</td>\n",
              "      <td>1147.852959</td>\n",
              "    </tr>\n",
              "    <tr>\n",
              "      <th>households</th>\n",
              "      <td>1.0000</td>\n",
              "      <td>6082.0000</td>\n",
              "      <td>501.221941</td>\n",
              "      <td>384.520841</td>\n",
              "    </tr>\n",
              "    <tr>\n",
              "      <th>median_income</th>\n",
              "      <td>0.4999</td>\n",
              "      <td>15.0001</td>\n",
              "      <td>3.883578</td>\n",
              "      <td>1.908157</td>\n",
              "    </tr>\n",
              "    <tr>\n",
              "      <th>median_house_value</th>\n",
              "      <td>14999.0000</td>\n",
              "      <td>500001.0000</td>\n",
              "      <td>207300.912353</td>\n",
              "      <td>115983.764387</td>\n",
              "    </tr>\n",
              "  </tbody>\n",
              "</table>\n",
              "</div>"
            ],
            "text/plain": [
              "                           min          max           mean            std\n",
              "longitude            -124.3500    -114.3100    -119.562108       2.005166\n",
              "latitude               32.5400      41.9500      35.625225       2.137340\n",
              "housing_median_age      1.0000      52.0000      28.589353      12.586937\n",
              "total_rooms             2.0000   37937.0000    2643.664412    2179.947071\n",
              "total_bedrooms          1.0000    6445.0000     539.410824     421.499452\n",
              "population              3.0000   35682.0000    1429.573941    1147.852959\n",
              "households              1.0000    6082.0000     501.221941     384.520841\n",
              "median_income           0.4999      15.0001       3.883578       1.908157\n",
              "median_house_value  14999.0000  500001.0000  207300.912353  115983.764387"
            ]
          },
          "metadata": {},
          "execution_count": 13
        }
      ]
    },
    {
      "cell_type": "code",
      "metadata": {
        "id": "h5OqP96SuExg",
        "cellView": "form"
      },
      "source": [
        "#@title **check your answer**\n",
        "student_func_str = inspect.getsource(dataframe_statistics)\n",
        "r = check_solution(assignment_id, student_func_str) \n"
      ],
      "execution_count": null,
      "outputs": []
    },
    {
      "cell_type": "code",
      "metadata": {
        "cellView": "form",
        "id": "j26-rfMllvM4"
      },
      "source": [
        "#@title **send your answer**\n",
        "student_func_str = inspect.getsource(dataframe_statistics)\n",
        "r = check_solution_and_evaluate(assignment_id, student_func_str) "
      ],
      "execution_count": null,
      "outputs": []
    },
    {
      "cell_type": "code",
      "metadata": {
        "colab": {
          "base_uri": "https://localhost:8080/",
          "height": 81
        },
        "cellView": "form",
        "id": "8jmKpA2AJi-P",
        "outputId": "8e1a68ec-dd7e-45e9-d020-ad3a6471f643"
      },
      "source": [
        "#@title Los **ejercicios 3 - 5** utilizan el siguiente dataset. \n",
        "#@markdown Cargue los datos y recuerde que están en un dataframe ''`titanic`''\n",
        "\n",
        "url = 'https://raw.githubusercontent.com/guipsamora/pandas_exercises/master/07_Visualization/Titanic_Desaster/train.csv'\n",
        "titanic = pd.read_csv(url)\n",
        "titanic.head(1)"
      ],
      "execution_count": 25,
      "outputs": [
        {
          "output_type": "execute_result",
          "data": {
            "text/html": [
              "<div>\n",
              "<style scoped>\n",
              "    .dataframe tbody tr th:only-of-type {\n",
              "        vertical-align: middle;\n",
              "    }\n",
              "\n",
              "    .dataframe tbody tr th {\n",
              "        vertical-align: top;\n",
              "    }\n",
              "\n",
              "    .dataframe thead th {\n",
              "        text-align: right;\n",
              "    }\n",
              "</style>\n",
              "<table border=\"1\" class=\"dataframe\">\n",
              "  <thead>\n",
              "    <tr style=\"text-align: right;\">\n",
              "      <th></th>\n",
              "      <th>PassengerId</th>\n",
              "      <th>Survived</th>\n",
              "      <th>Pclass</th>\n",
              "      <th>Name</th>\n",
              "      <th>Sex</th>\n",
              "      <th>Age</th>\n",
              "      <th>SibSp</th>\n",
              "      <th>Parch</th>\n",
              "      <th>Ticket</th>\n",
              "      <th>Fare</th>\n",
              "      <th>Cabin</th>\n",
              "      <th>Embarked</th>\n",
              "    </tr>\n",
              "  </thead>\n",
              "  <tbody>\n",
              "    <tr>\n",
              "      <th>0</th>\n",
              "      <td>1</td>\n",
              "      <td>0</td>\n",
              "      <td>3</td>\n",
              "      <td>Braund, Mr. Owen Harris</td>\n",
              "      <td>male</td>\n",
              "      <td>22.0</td>\n",
              "      <td>1</td>\n",
              "      <td>0</td>\n",
              "      <td>A/5 21171</td>\n",
              "      <td>7.25</td>\n",
              "      <td>NaN</td>\n",
              "      <td>S</td>\n",
              "    </tr>\n",
              "  </tbody>\n",
              "</table>\n",
              "</div>"
            ],
            "text/plain": [
              "   PassengerId  Survived  Pclass  ...  Fare Cabin  Embarked\n",
              "0            1         0       3  ...  7.25   NaN         S\n",
              "\n",
              "[1 rows x 12 columns]"
            ]
          },
          "metadata": {},
          "execution_count": 25
        }
      ]
    },
    {
      "cell_type": "markdown",
      "metadata": {
        "id": "N6zdjAfDuFT4"
      },
      "source": [
        "---\n",
        "# **Ejercicio 3**  <a name=\"eje3\"></a>\n",
        "---\n",
        "- Escriba una función que reciba el dataset '`titanic`'\n",
        "- Elimine todas las filas que contienen al menos un registro `NaN`\n",
        "- la columna Sex contiene los generos en  valores como:  `female`  y `male`. Reemplace los valores por `1`  y `0`, respectivamente. "
      ]
    },
    {
      "cell_type": "code",
      "metadata": {
        "id": "funvgWu6uHh6"
      },
      "source": [
        "def replace_values(data):\n",
        "\n",
        "  import pandas as pd\n",
        "  \n",
        "  \"\"\"Put your code here\"\"\"\n",
        "    \n",
        "  pass"
      ],
      "execution_count": null,
      "outputs": []
    },
    {
      "cell_type": "code",
      "metadata": {
        "id": "xXCQlSAPuID_",
        "cellView": "form"
      },
      "source": [
        "#@title **check your answer**\n",
        "student_func_str = inspect.getsource(replace_values)\n",
        "r = check_solution(assignment_id, student_func_str) "
      ],
      "execution_count": null,
      "outputs": []
    },
    {
      "cell_type": "code",
      "metadata": {
        "cellView": "form",
        "id": "fwI3rv6hlF3w"
      },
      "source": [
        "#@title **send your answer**\n",
        "student_func_str = inspect.getsource(replace_values)\n",
        "r = check_solution_and_evaluate(assignment_id, student_func_str) "
      ],
      "execution_count": null,
      "outputs": []
    },
    {
      "cell_type": "markdown",
      "metadata": {
        "id": "rccBlLdTuIbq"
      },
      "source": [
        "---\n",
        "# **Ejercicio 4**  <a name=\"eje4\"></a>\n",
        "---\n",
        "\n",
        "- Realice una agrupación de '`titanic`' por la variable  `Pclass` \n",
        "- Seleccione las columnas `Age` and `Fare` y calcule `max`, `min` and `mean`, para cadacolumna y agregue la información como una nueva columna\n",
        "- Retorne los resultados en un nuevo dataframe\n"
      ]
    },
    {
      "cell_type": "code",
      "metadata": {
        "id": "sPm4MaVHuKWo",
        "colab": {
          "base_uri": "https://localhost:8080/",
          "height": 206
        },
        "outputId": "9e8be6f9-5659-4df0-9043-9b98f907da89"
      },
      "source": [
        "def aggregated_titanic(data):  \n",
        "  \n",
        "  \"\"\"Put your code here\"\"\"\n",
        "    \n",
        "  pass\n",
        "aggregated_titanic(titanic)"
      ],
      "execution_count": 26,
      "outputs": [
        {
          "output_type": "execute_result",
          "data": {
            "text/html": [
              "<div>\n",
              "<style scoped>\n",
              "    .dataframe tbody tr th:only-of-type {\n",
              "        vertical-align: middle;\n",
              "    }\n",
              "\n",
              "    .dataframe tbody tr th {\n",
              "        vertical-align: top;\n",
              "    }\n",
              "\n",
              "    .dataframe thead tr th {\n",
              "        text-align: left;\n",
              "    }\n",
              "\n",
              "    .dataframe thead tr:last-of-type th {\n",
              "        text-align: right;\n",
              "    }\n",
              "</style>\n",
              "<table border=\"1\" class=\"dataframe\">\n",
              "  <thead>\n",
              "    <tr>\n",
              "      <th></th>\n",
              "      <th colspan=\"3\" halign=\"left\">Age</th>\n",
              "      <th colspan=\"3\" halign=\"left\">Fare</th>\n",
              "    </tr>\n",
              "    <tr>\n",
              "      <th></th>\n",
              "      <th>max</th>\n",
              "      <th>min</th>\n",
              "      <th>mean</th>\n",
              "      <th>max</th>\n",
              "      <th>min</th>\n",
              "      <th>mean</th>\n",
              "    </tr>\n",
              "    <tr>\n",
              "      <th>Pclass</th>\n",
              "      <th></th>\n",
              "      <th></th>\n",
              "      <th></th>\n",
              "      <th></th>\n",
              "      <th></th>\n",
              "      <th></th>\n",
              "    </tr>\n",
              "  </thead>\n",
              "  <tbody>\n",
              "    <tr>\n",
              "      <th>1</th>\n",
              "      <td>80.0</td>\n",
              "      <td>0.92</td>\n",
              "      <td>38.233441</td>\n",
              "      <td>512.3292</td>\n",
              "      <td>0.0</td>\n",
              "      <td>84.154687</td>\n",
              "    </tr>\n",
              "    <tr>\n",
              "      <th>2</th>\n",
              "      <td>70.0</td>\n",
              "      <td>0.67</td>\n",
              "      <td>29.877630</td>\n",
              "      <td>73.5000</td>\n",
              "      <td>0.0</td>\n",
              "      <td>20.662183</td>\n",
              "    </tr>\n",
              "    <tr>\n",
              "      <th>3</th>\n",
              "      <td>74.0</td>\n",
              "      <td>0.42</td>\n",
              "      <td>25.140620</td>\n",
              "      <td>69.5500</td>\n",
              "      <td>0.0</td>\n",
              "      <td>13.675550</td>\n",
              "    </tr>\n",
              "  </tbody>\n",
              "</table>\n",
              "</div>"
            ],
            "text/plain": [
              "         Age                       Fare                \n",
              "         max   min       mean       max  min       mean\n",
              "Pclass                                                 \n",
              "1       80.0  0.92  38.233441  512.3292  0.0  84.154687\n",
              "2       70.0  0.67  29.877630   73.5000  0.0  20.662183\n",
              "3       74.0  0.42  25.140620   69.5500  0.0  13.675550"
            ]
          },
          "metadata": {},
          "execution_count": 26
        }
      ]
    },
    {
      "cell_type": "code",
      "metadata": {
        "id": "npFFCPCJuKs2",
        "cellView": "form"
      },
      "source": [
        "#@title **check your answer**\n",
        "student_func_str = inspect.getsource(aggregated_titanic)\n",
        "r = check_solution(assignment_id, student_func_str) \n"
      ],
      "execution_count": null,
      "outputs": []
    },
    {
      "cell_type": "code",
      "metadata": {
        "cellView": "form",
        "id": "Kc1H5W3qnzLP"
      },
      "source": [
        "#@title **send your answer**\n",
        "student_func_str = inspect.getsource(aggregated_titanic)\n",
        "r = check_solution_and_evaluate(assignment_id, student_func_str) "
      ],
      "execution_count": null,
      "outputs": []
    },
    {
      "cell_type": "markdown",
      "metadata": {
        "id": "zlPD3YEZuLCi"
      },
      "source": [
        "---\n",
        "# **Ejercicio 5**  <a name=\"eje5\"></a>\n",
        "---\n",
        "- Escriba una función que reciba como argumento el dataset '`titanic`'\n",
        "- Agrupe por `Sex`and select the `Age` and `Survived`.\n",
        "- Calcule la media de cada columna\n",
        "- Retorne un nuevo dataframe con estos valores (2 rows, 2 columns)."
      ]
    },
    {
      "cell_type": "code",
      "metadata": {
        "id": "RtWeZOtpuNL8",
        "colab": {
          "base_uri": "https://localhost:8080/",
          "height": 143
        },
        "outputId": "207b3581-fc05-4ac4-95b7-43a4d4449aa2"
      },
      "source": [
        "def groupby_titanic(data):  \n",
        "  \n",
        "  \"\"\"Put your code here\"\"\"\n",
        "    \n",
        "  pass\n",
        "groupby_titanic(titanic)  "
      ],
      "execution_count": 31,
      "outputs": [
        {
          "output_type": "execute_result",
          "data": {
            "text/html": [
              "<div>\n",
              "<style scoped>\n",
              "    .dataframe tbody tr th:only-of-type {\n",
              "        vertical-align: middle;\n",
              "    }\n",
              "\n",
              "    .dataframe tbody tr th {\n",
              "        vertical-align: top;\n",
              "    }\n",
              "\n",
              "    .dataframe thead th {\n",
              "        text-align: right;\n",
              "    }\n",
              "</style>\n",
              "<table border=\"1\" class=\"dataframe\">\n",
              "  <thead>\n",
              "    <tr style=\"text-align: right;\">\n",
              "      <th></th>\n",
              "      <th>Age</th>\n",
              "      <th>Survived</th>\n",
              "    </tr>\n",
              "    <tr>\n",
              "      <th>Sex</th>\n",
              "      <th></th>\n",
              "      <th></th>\n",
              "    </tr>\n",
              "  </thead>\n",
              "  <tbody>\n",
              "    <tr>\n",
              "      <th>female</th>\n",
              "      <td>27.915709</td>\n",
              "      <td>0.742038</td>\n",
              "    </tr>\n",
              "    <tr>\n",
              "      <th>male</th>\n",
              "      <td>30.726645</td>\n",
              "      <td>0.188908</td>\n",
              "    </tr>\n",
              "  </tbody>\n",
              "</table>\n",
              "</div>"
            ],
            "text/plain": [
              "              Age  Survived\n",
              "Sex                        \n",
              "female  27.915709  0.742038\n",
              "male    30.726645  0.188908"
            ]
          },
          "metadata": {},
          "execution_count": 31
        }
      ]
    },
    {
      "cell_type": "code",
      "metadata": {
        "id": "dXe4DLOauNe0",
        "cellView": "form"
      },
      "source": [
        "#@title **check your answer**\n",
        "student_func_str = inspect.getsource(groupby_titanic)\n",
        "r = check_solution(assignment_id, student_func_str) \n"
      ],
      "execution_count": null,
      "outputs": []
    },
    {
      "cell_type": "code",
      "metadata": {
        "cellView": "form",
        "id": "Dyw107B-rd4l"
      },
      "source": [
        "#@title **send your answer**\n",
        "student_func_str = inspect.getsource(groupby_titanic)\n",
        "r = check_solution_and_evaluate(assignment_id, student_func_str) "
      ],
      "execution_count": null,
      "outputs": []
    },
    {
      "cell_type": "markdown",
      "metadata": {
        "id": "7Eu9G3tOuO6e"
      },
      "source": [
        "---\n",
        "<img src=\"https://gitlab.com/bivl2ab/academico/cursos-uis/ai/ai-uis-student/raw/master/imgs/bannerThanks.jpg\" alt=\"Drawing\" style=\"width:700px;\"/>"
      ]
    }
  ]
}