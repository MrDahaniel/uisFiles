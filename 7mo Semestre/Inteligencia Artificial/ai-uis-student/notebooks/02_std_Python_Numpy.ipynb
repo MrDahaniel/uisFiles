{
  "nbformat": 4,
  "nbformat_minor": 0,
  "metadata": {
    "colab": {
      "name": "02_std_Python_Numpy.ipynb",
      "provenance": [],
      "collapsed_sections": [
        "WKWsJZiazrul"
      ]
    },
    "kernelspec": {
      "display_name": "Python 3",
      "language": "python",
      "name": "python3"
    },
    "language_info": {
      "codemirror_mode": {
        "name": "ipython",
        "version": 2
      },
      "file_extension": ".py",
      "mimetype": "text/x-python",
      "name": "python",
      "nbconvert_exporter": "python",
      "pygments_lexer": "ipython2",
      "version": "2.7.14"
    },
    "toc": {
      "toc_cell": false,
      "toc_number_sections": true,
      "toc_threshold": 6,
      "toc_window_display": false
    }
  },
  "cells": [
    {
      "cell_type": "markdown",
      "metadata": {
        "id": "h6xUw6cmzrmb"
      },
      "source": [
        "<img src=\"https://gitlab.com/bivl2ab/academico/cursos-uis/ai/ai-uis-student/raw/master/imgs/banner_IA.png\"  width=\"1000px\" height=\"250px\">\n",
        "\n",
        "\n",
        "# <center> **02. Numpy Review! </center>**\n",
        " \n",
        " \n",
        "##  **Outline**\n",
        "1. [**Numpy introduction**](#eje1)\n",
        "2. [**Vector, matrices and axis**](#eje2)\n",
        "3. [**Math operations**](#eje3)\n",
        "\n"
      ]
    },
    {
      "cell_type": "code",
      "metadata": {
        "cellView": "form",
        "colab": {
          "base_uri": "https://localhost:8080/",
          "height": 35
        },
        "id": "zdP4n3FMQepe",
        "outputId": "83746553-ecc1-404b-f799-e63f82b27831"
      },
      "source": [
        "#@title **Execute this cell**\n",
        "#@markdown Please include your student id\n",
        "import sys\n",
        "import inspect\n",
        "\n",
        "group_id = \"H2\" #@param {type:\"string\"}\n",
        "assignment_id = 'ai1-'+group_id +'.20212.python'\n",
        "code_subject = '1'\n",
        "student_id = \"2210\" #@param {type:\"string\"}\n",
        "\"\"\"\n",
        "Put your student ID here\n",
        "\n",
        "Example: student_id =  '2152145'\n",
        "\"\"\" "
      ],
      "execution_count": 17,
      "outputs": [
        {
          "output_type": "execute_result",
          "data": {
            "application/vnd.google.colaboratory.intrinsic+json": {
              "type": "string"
            },
            "text/plain": [
              "\"\\nPut your student ID here\\n\\nExample: student_id =  '2152145'\\n\""
            ]
          },
          "metadata": {},
          "execution_count": 17
        }
      ]
    },
    {
      "cell_type": "code",
      "metadata": {
        "cellView": "form",
        "id": "Irfg11RlQeec"
      },
      "source": [
        "#@title **Execute this cell**\n",
        "#@markdown **UTILS**\n",
        "#@markdown Please dont modify any line in this cell\n",
        "\n",
        "import os\n",
        "import json\n",
        "import requests\n",
        "from collections import namedtuple\n",
        "\n",
        "\n",
        "Config = namedtuple('Config', ['server_name', 'course_name', 'student_id'])\n",
        "config = Config(server_name='https://azuregrader.azurewebsites.net/api', \n",
        "                course_name='ai1', student_id='2162107')\n",
        "\n",
        "\n",
        "def check_solution(assignment_id, student_func_str):\n",
        "\n",
        "    # Set the endpoint and payload.\n",
        "    payload = {'func_str': student_func_str, 'assignment_id': assignment_id}\n",
        "    endpoint_url = config.server_name + '/CheckSolution'\n",
        "    # print(endpoint_url)\n",
        "\n",
        "    # Make request to server with the data coming from the notebook.\n",
        "    r = requests.get(endpoint_url, params=payload)\n",
        "    pprint_json_response(r.json())\n",
        "    return r\n",
        "\n",
        "\n",
        "def check_solution_and_evaluate(assignment_id: str, student_func_str: str):\n",
        "\n",
        "    # Set the endpoint and payload.\n",
        "    payload = {\n",
        "        'func_str': student_func_str,\n",
        "        'assignment_id': assignment_id,\n",
        "        'student_id': student_id\n",
        "    }\n",
        "    endpoint_url = config.server_name + '/CheckAndEvaluateSolution'\n",
        "    # print(endpoint_url)\n",
        "\n",
        "    # Make request to server with the data coming from the notebook.\n",
        "    r = requests.post(endpoint_url, params=payload)\n",
        "    pprint_json_response(r.json())\n",
        "    return r\n",
        "\n",
        "\n",
        "def pprint_json_response(response, indent=0):\n",
        "    \"\"\"Pretty print the response.\"\"\"\n",
        "    for key, value in response.items():\n",
        "        print('\\t' * indent + str(key.capitalize()))\n",
        "\n",
        "        # If dictionary, do a recurrent call.\n",
        "        if isinstance(value, dict):\n",
        "            pprint_json_response(value, indent + 1)\n",
        "        else:\n",
        "            # Enumerate elements if list.\n",
        "            if isinstance(value, list):\n",
        "                if len(value) == 1:\n",
        "                    print('\\t' * (indent + 1) + str(value[0]))\n",
        "                else:\n",
        "                    for i, e in enumerate(value, start=1):\n",
        "                        print('\\t' * (indent + 1) + f'{i}. {e}')\n",
        "            else:\n",
        "                print('\\t' * (indent + 1) + str(value))"
      ],
      "execution_count": 18,
      "outputs": []
    },
    {
      "cell_type": "markdown",
      "metadata": {
        "id": "qP70yL5NzroQ"
      },
      "source": [
        "# **1. Numpy introduction**  <a name=\"eje1\"></a>\n",
        "\n",
        "The `Numpy`  library allows the efficient manage of **tensors**, it to say, multidimensional arrays. \"NumPy was an important part of the software stack used in the discovery of gravitational waves and in the first imaging of a black hole2 [7]\"\n",
        "\n",
        "<img src=\"https://gitlab.com/bivl2ab/academico/cursos-uis/ai/ai-uis-student/raw/master/imgs/numpy.png\" width=\"700\">\n"
      ]
    },
    {
      "cell_type": "markdown",
      "metadata": {
        "id": "XLjJn5SStbp4"
      },
      "source": [
        "# **2. Vector, matrices and axis** <a name=\"eje2\"></a>\n",
        "\n",
        "### **2.1 Vector and matrices from `ndarray`**\n",
        "The `ndarray` are homogenous (same type)  **data containers**  and **functions** to operate over the data. Operations are highly efficient. \n",
        "    - It is indexed as non-negative integers\n",
        "    - The number of dimensions is the `rank`\n",
        "    - `shape` is a tuple with size along each dimension\n",
        "Some initial notation and how the dimensions works are expressed as follows. "
      ]
    },
    {
      "cell_type": "code",
      "metadata": {
        "id": "wNkC0MzRzroT",
        "cellView": "form"
      },
      "source": [
        "#@title **code** working with **Numpy**\n",
        "import numpy as np # the convention to import numpy\n",
        "\n",
        "a = np.array([[1,2,3,4,5],\n",
        "              [5,4,3,2,1],\n",
        "              [9,8,7,6,5],\n",
        "              [7,6,5,6,7],\n",
        "              [2,2,2,3,3],\n",
        "              [4,3,4,3,4],\n",
        "              [5,1,1,4,1]])\n",
        "print( \"a shape\", a.shape) # (filas, columnas)\n",
        "print( \"a rows\", a.shape[0])\n",
        "print( \"a cols\", a.shape[1])\n",
        "\n",
        "v = np.array([2,3,4,5,6,7,3,12])\n",
        "print( \"v shape\", v.shape)\n",
        "print( \"v elems\", v.shape[0])\n",
        "print(type(v))\n",
        "\n",
        "x = np.array([1, 2], dtype=np.float64)   # Force a particular datatype\n",
        "print(x.dtype)  "
      ],
      "execution_count": null,
      "outputs": []
    },
    {
      "cell_type": "code",
      "metadata": {
        "id": "UFFp2M2kzror",
        "cellView": "form"
      },
      "source": [
        "#@title **code** slicing on `ndarray` structures. \n",
        "print(a)\n",
        "print(\"una fila        \" ,a[2])\n",
        "print( \"una fila        \",a[2,:])\n",
        "print( \"una columna     \",a[:,2])\n",
        "print( \"un elemento     \",a[2,2])\n",
        "print( \"varias filas    \\n\",a[2:5])\n",
        "print( \"varias columnas \\n\",a[:,1:3])\n",
        "print( \"una porcion     \\n\",a[2:5,1:3])\n"
      ],
      "execution_count": null,
      "outputs": []
    },
    {
      "cell_type": "code",
      "metadata": {
        "id": "5tSU31DnAtaR",
        "cellView": "form"
      },
      "source": [
        "#@title **code:** Easy construction of matrices and vectors \n",
        "b = np.zeros((2,2))   # Create an array of all zeros\n",
        "print(b)              # Prints \"[[ 0.  0.]\n",
        "                      #          [ 0.  0.]]\"\n",
        "\n",
        "c = np.ones((1,2))    # Create an array of all ones\n",
        "print(c)              # Prints \"[[ 1.  1.]]\"\n",
        "\n",
        "d = np.full((2,2), 7)  # Create a constant array\n",
        "print(d)               # Prints \"[[ 7.  7.]\n",
        "                       #          [ 7.  7.]]\"\n",
        "\n",
        "f = np.eye(2)         # Create a 2x2 identity matrix\n",
        "print(f)              # Prints \"[[ 1.  0.]\n",
        "                      #          [ 0.  1.]]\"\n",
        "    \n",
        "print( \"matrix identidad\\n\", np.eye(3))\n",
        "print( \"matrix identidad\\n\", np.identity(3))\n",
        "print( \"vector de ceros\", np.zeros(4))\n",
        "print( \"matriz de ceros\\n\", np.zeros((3,2)))\n",
        "print( \"matriz de unos\\n\", np.ones((2,3)))\n",
        "print( \"vector rango\", np.arange(10))\n",
        "print( \"vector rango\", np.arange(5,10))\n",
        "print( \"matriz aleatoria según distribución uniforme [0,1]\\n\", np.random.random(size=(3,5)))\n",
        "print( \"vector aleatorio de enteros entre 0 y 5\", np.random.randint(5, size=10))    "
      ],
      "execution_count": null,
      "outputs": []
    },
    {
      "cell_type": "markdown",
      "metadata": {
        "id": "xLySLwIhzro0"
      },
      "source": [
        "<img src=\"https://gitlab.com/bivl2ab/academico/cursos-uis/ai/ai-2-uis-student/-/raw/master/imgs/icon1.png\" width=\"200\">\n",
        "\n",
        "- How works `np.linspace(A,B,C))`?. Replace A, B, and C by any number and evaluate the funtion. \n",
        "\n",
        "- Create a random matrix of integers `Aa` with Row>4 rows and Col>10 colums. \n",
        "\n",
        "- Which means the next notation `Aa[:2, 1:3]` ?. \n",
        "\n",
        "- Which is the output?"
      ]
    },
    {
      "cell_type": "code",
      "metadata": {
        "id": "I684UtRlDrC-",
        "cellView": "form"
      },
      "source": [
        "#@title **code student** \n",
        "A =  -5#@param {type:\"integer\"}\n",
        "B =  10#@param {type:\"integer\"}\n",
        "C =   5#@param {type:\"integer\"}\n",
        "Row =   5#@param {type:\"integer\"}\n",
        "Col =   11#@param {type:\"integer\"}\n"
      ],
      "execution_count": null,
      "outputs": []
    },
    {
      "cell_type": "markdown",
      "metadata": {
        "id": "91gi2BFbzrpA"
      },
      "source": [
        "### **2.2 `axis`**\n",
        "\n",
        "<img src=\"https://gitlab.com/bivl2ab/academico/cursos-uis/ai/ai-uis-student/raw/master/imgs/axis_numpy.png\" width=\"700\">\n",
        "\n",
        "Many functions in `numpy` can be executed from independent columns and rows  by using the argument value of `axis`.\n",
        "\n",
        "Axes are defined for arrays with more than one dimension. A 2-dimensional array has two corresponding axes:\n",
        "- the first running vertically downwards across rows (axis 0)\n",
        "- the second running horizontally across columns (axis 1)"
      ]
    },
    {
      "cell_type": "code",
      "metadata": {
        "id": "xe4qGDWHzrpB",
        "cellView": "form"
      },
      "source": [
        "#@title **code** working wit **`axis`**\n",
        "z = np.random.randint(100, size=(3,4)) # Create an array filled with random values\n",
        "print(z)\n",
        "print(np.sum(z, axis=1))\n",
        "\n",
        "\n",
        "a = np.array([[1,2,3,4,5],\n",
        "              [5,4,3,2,1],\n",
        "              [9,8,7,6,5],\n",
        "              [7,6,5,6,7],\n",
        "              [2,2,2,3,3],\n",
        "              [4,3,4,3,4],\n",
        "              [5,1,1,4,1]])\n",
        "\n",
        "print(\"a: \")\n",
        "print(a)\n",
        "\n",
        "print(\"suma total\", np.sum(a))\n",
        "print(\"suma eje 0\", np.sum(a, axis=0))\n",
        "print(\"suma eje 1\", np.sum(a, axis=1))\n",
        "print(\"promedio total\", np.mean(a))\n",
        "print(\"promedio eje 0\", np.mean(a, axis=0))\n",
        "print(\"promedio eje 1\", np.mean(a, axis=1))"
      ],
      "execution_count": null,
      "outputs": []
    },
    {
      "cell_type": "markdown",
      "metadata": {
        "id": "VjSdFKypXzVp"
      },
      "source": [
        "### **Logical slicing and indexing**\n",
        "The numpy functions also works with _boolean_ expressions. For instance to select some specific objects."
      ]
    },
    {
      "cell_type": "code",
      "metadata": {
        "cellView": "form",
        "id": "BXfPrrhFVVX6"
      },
      "source": [
        "#@title **code** Boolean array indexing\n",
        "a = np.array([[1,2], [3, 4], [5, 6]])\n",
        "\n",
        "bool_idx = (a > 2)   # Find the elements of a that are bigger than 2;\n",
        "                     # this returns a numpy array of Booleans of the same\n",
        "                     # shape as a, where each slot of bool_idx tells\n",
        "                     # whether that element of a is > 2.\n",
        "\n",
        "print(bool_idx)      # Prints \"[[False False]\n",
        "                     #          [ True  True]\n",
        "                     #          [ True  True]]\"\n",
        "\n",
        "# We use boolean array indexing to construct a rank 1 array\n",
        "# consisting of the elements of a corresponding to the True values\n",
        "# of bool_idx\n",
        "print(a[bool_idx])  # Prints \"[3 4 5 6]\"\n",
        "\n",
        "# We can do all of the above in a single concise statement:\n",
        "print(a[a > 2])     # Prints \"[3 4 5 6]\"\n",
        "\n",
        "a = np.array([1,8,4,10,-4,5])\n",
        "print(a)\n",
        "print(a>4)\n",
        "print(a[a>4])\n",
        "\n",
        "a = np.array([1,8,4,10,-4,5])\n",
        "print(\"posiciones en a >4:\", a>4)\n",
        "print(\"elementos de a >4:\",a[a>4])"
      ],
      "execution_count": null,
      "outputs": []
    },
    {
      "cell_type": "markdown",
      "metadata": {
        "id": "Nv6KnaCozrpw"
      },
      "source": [
        "# **3. Math operations** <a name=\"eje3\"></a>\n",
        "\n",
        "\n",
        "### **3.1 Math and vectorized operations with   `numpy`**\n"
      ]
    },
    {
      "cell_type": "code",
      "metadata": {
        "id": "LsMZlaaxzrpx",
        "cellView": "form"
      },
      "source": [
        "#@title **code** elementwise array operations\n",
        "v = np.array([10,12,13,15,20])\n",
        "print(v)\n",
        "print(v+1)\n",
        "print(v*2)\n",
        "\n",
        "x = np.array([[1,2],[3,4]], dtype=np.float64)\n",
        "y = np.array([[5,6],[7,8]], dtype=np.float64)\n",
        "\n",
        "#overload and as functions\n",
        "print(x + y)\n",
        "print(np.add(x, y))\n",
        "\n",
        "# Elementwise difference; both produce the array\n",
        "# [[-4.0 -4.0]\n",
        "#  [-4.0 -4.0]]\n",
        "print(x - y)\n",
        "print(np.subtract(x, y))\n",
        "\n",
        "# Elementwise product; both produce the array\n",
        "# [[ 5.0 12.0]\n",
        "#  [21.0 32.0]]\n",
        "print(x * y)\n",
        "print(np.multiply(x, y))\n",
        "\n",
        "# Elementwise division; both produce the array\n",
        "# [[ 0.2         0.33333333]\n",
        "#  [ 0.42857143  0.5       ]]\n",
        "print(x / y)\n",
        "print(np.divide(x, y))\n",
        "\n",
        "# Elementwise square root; produces the array\n",
        "# [[ 1.          1.41421356]\n",
        "#  [ 1.73205081  2.        ]]\n",
        "print(np.sqrt(x))"
      ],
      "execution_count": null,
      "outputs": []
    },
    {
      "cell_type": "markdown",
      "metadata": {
        "id": "yifiiX5YzrqB"
      },
      "source": [
        "- `*` is elementwise multiplication\n",
        "- `dot` function to compute inner products of vectors   "
      ]
    },
    {
      "cell_type": "code",
      "metadata": {
        "id": "qye3DdcazrqM",
        "scrolled": true,
        "cellView": "form"
      },
      "source": [
        "#@title **code** vector and elementwise operations\n",
        "a = np.array([[1,2,3],[4,5,6]])\n",
        "b = np.array([[6,5,4],[3,2,1]])\n",
        "c = np.array([[1,2],[4,5]])\n",
        "print(a)\n",
        "print(b)\n",
        "print(\"--\")\n",
        "\n",
        "print(\" que esta haciendo: ??\")\n",
        "print(a.T.dot(a))\n",
        "\n",
        "print(\"matrix multiplication\")\n",
        "print(a.T.dot(a))\n",
        "print(np.dot(a.T, a))\n",
        "print(\"pointwise\")\n",
        "print(a*b)\n",
        "\n",
        "print(\"--\")\n",
        "\n",
        "print(\"a+b\\n\",a+b)\n",
        "print(\"a**2\\n\", a**2)\n",
        "print(\"a*b\\n\",a*b)\n",
        "print(\"a x b'\\n\",a.dot(b.T))\n",
        "print(\"a' x b\\n\",a.T.dot(b))\n"
      ],
      "execution_count": null,
      "outputs": []
    },
    {
      "cell_type": "markdown",
      "metadata": {
        "id": "N5XcgrWmWoJW"
      },
      "source": [
        "<img src=\"https://gitlab.com/bivl2ab/academico/cursos-uis/ai/ai-2-uis-student/-/raw/master/imgs/icon1.png\" width=\"200\">\n",
        "\n",
        "- Use the function `arange` to obtain a matrix  `SampleInd` of consecutive numbers from `0 to 19`.  \n",
        "\n",
        "- `Reshape` matrix to fix a matrix with dimension `SampleInd` with Row=5 rows and Col=4 colums. \n",
        "\n",
        "- Print matrix values and shape\n",
        "- Return a vector with the values in `(row=2,col=3)`, `(row=4,col=3) `and  `(row=0,col=0)`"
      ]
    },
    {
      "cell_type": "code",
      "metadata": {
        "id": "fh3O7RSXW2Gx"
      },
      "source": [
        "def sample_ind():\n",
        "  \n",
        "\n",
        "  \n",
        "\n",
        "  return values"
      ],
      "execution_count": null,
      "outputs": []
    },
    {
      "cell_type": "code",
      "metadata": {
        "id": "deNpQOHEW2EB",
        "cellView": "form"
      },
      "source": [
        "#@title ## **Check your answer**\n",
        "student_func_str = inspect.getsource(sample_ind)\n",
        "r = check_solution(assignment_id, student_func_str) "
      ],
      "execution_count": null,
      "outputs": []
    },
    {
      "cell_type": "code",
      "metadata": {
        "id": "0pE6Nz0qW19A",
        "cellView": "form"
      },
      "source": [
        "#@title ## **send your answer**\n",
        "student_func_str = inspect.getsource(sample_ind)\n",
        "r = check_solution_and_evaluate(assignment_id, student_func_str) "
      ],
      "execution_count": null,
      "outputs": []
    },
    {
      "cell_type": "markdown",
      "metadata": {
        "id": "B-BN4fTbzrqd"
      },
      "source": [
        "## **2.4 Vectorization**\n",
        "\n",
        "Vectorization is used to speed up the Python code without using **loop** structures. For instance, the dot product (inner product) between two vector: \n",
        "$$a_{1 \\times n} \\cdot b_{n\\times 1} = c$$\n"
      ]
    },
    {
      "cell_type": "code",
      "metadata": {
        "id": "TTj-idSszrqf",
        "colab": {
          "base_uri": "https://localhost:8080/"
        },
        "cellView": "form",
        "outputId": "790f0ec9-06b1-4d32-a5b7-ed6e4ef26f39"
      },
      "source": [
        "#@title **code** vectorization performance\n",
        "import time \n",
        "a = np.random.randint(10, size=10000)\n",
        "b = np.random.randint(10, size=10000)\n",
        "\n",
        "#@markdown  Classical way\n",
        "tic = time.process_time() \n",
        "dot = 0.0; \n",
        "  \n",
        "for i in range(len(a)): \n",
        "      dot += a[i] * b[i] \n",
        "\n",
        "toc = time.process_time() \n",
        "print(\"dot_product = \"+ str(dot)); \n",
        "print(\"Computation time = \" + str(1000*(toc - tic )) + \"ms\") \n",
        "\n",
        "#@markdown  vectorized way\n",
        "\n",
        "n_tic = time.process_time() \n",
        "n_dot_product = np.dot(a, b) \n",
        "n_toc = time.process_time() \n",
        "  \n",
        "print(\"\\nn_dot_product = \"+str(n_dot_product)) \n",
        "print(\"Computation time = \"+str(1000*(n_toc - n_tic ))+\"ms\") "
      ],
      "execution_count": 28,
      "outputs": [
        {
          "output_type": "stream",
          "name": "stdout",
          "text": [
            "dot_product = 20698.0\n",
            "Computation time = 0.8270790000040051ms\n",
            "\n",
            "n_dot_product = 20698\n",
            "Computation time = 0.5883559999944055ms\n"
          ]
        }
      ]
    },
    {
      "cell_type": "markdown",
      "metadata": {
        "id": "NSomNs1Rzrqy"
      },
      "source": [
        "Another way, but with outer product (tensor product): \n",
        "$$a_{n\\times1}b^{T}_{1\\times n} = c_{n\\times n}$$"
      ]
    },
    {
      "cell_type": "code",
      "metadata": {
        "id": "Z96WDyMjzrq0",
        "cellView": "form"
      },
      "source": [
        "#@title **code**\n",
        "#@markdown classical way\n",
        "tic = time.process_time() \n",
        "outer_product = np.zeros((1000, 1000)) \n",
        "  \n",
        "for i in range(len(a)): \n",
        "    for j in range(len(b)): \n",
        "        outer_product[i][j]= a[i]*b[j] \n",
        "\n",
        "toc = time.process_time() \n",
        "print(\"outer_product = \"+ str(outer_product)); \n",
        "print(\"Computation time = \"+str(1000*(toc - tic ))+\"ms\") \n",
        "#@markdown vectorized way\n",
        "n_tic = time.process_time() \n",
        "outer_product = np.outer(a, b) \n",
        "n_toc = time.process_time() \n",
        "  \n",
        "print(\"outer_product = \"+str(outer_product)); \n",
        "print(\"\\nComputation time = \"+str(1000*(n_toc - n_tic ))+\"ms\")"
      ],
      "execution_count": null,
      "outputs": []
    },
    {
      "cell_type": "markdown",
      "metadata": {
        "id": "BNPr5-4Ozrrg"
      },
      "source": [
        "Also, this mathematical expression:\n",
        "$y^i = \\sum_{j=0}^{n}\\theta_{j}^{i}x_{j}^{i}=\\Theta X^\\top; i=\\{1,2\\}$, where lowercase letters correspond to elements and uppercase letters to matrices or vectors."
      ]
    },
    {
      "cell_type": "code",
      "metadata": {
        "id": "5HtBJ6vvzrri",
        "cellView": "form"
      },
      "source": [
        "#@title **code**\n",
        "#@markdown elementwise operations\n",
        "theta = np.array([0.4,0.04,0.3,0.2,0.5])\n",
        "X = np.array([[1,5,8,9,7],\n",
        "              [1,3,4,5,6]])\n",
        "y = np.array([0.0,0.0])\n",
        "\n",
        "for m in list(range(2)):\n",
        "    result = 0\n",
        "    for n in list(range(5)):\n",
        "        result = result + (theta[n]*X[m,n])\n",
        "    y[m] = result    \n",
        "\n",
        "print(y)  \n",
        "#@markdown Dot product\n",
        "y = np.dot(theta,X.T)\n",
        "print(y)\n",
        "#@markdown What about time operations?"
      ],
      "execution_count": null,
      "outputs": []
    },
    {
      "cell_type": "markdown",
      "metadata": {
        "id": "TPYxJI0UT_jT"
      },
      "source": [
        "<img src=\"https://gitlab.com/bivl2ab/academico/cursos-uis/ai/ai-2-uis-student/-/raw/master/imgs/icon1.png\" width=\"200\">\n",
        "\n",
        "\n",
        "- Create a random matrix of size `30x40`.\n",
        "- Compute the [Frobenius Norm](https://mathworld.wolfram.com/FrobeniusNorm.html) in two ways. The first one using Numpy and the second one iteraring over rows and columns using a loop.\n",
        "- Return the computed norms. "
      ]
    },
    {
      "cell_type": "code",
      "metadata": {
        "id": "HSEb8sWeUdvS"
      },
      "source": [
        " #@title **code student**\n",
        "def frobenius_norm():\n",
        "\n",
        "  \"\"\" \n",
        "  Put your code here \n",
        "  \"\"\" \n",
        "\n",
        "  pass"
      ],
      "execution_count": null,
      "outputs": []
    },
    {
      "cell_type": "code",
      "metadata": {
        "cellView": "form",
        "id": "jqfyiE9uUhDi"
      },
      "source": [
        "#@title ## **Check your answer**\n",
        "student_func_str = inspect.getsource(frobenius_norm)\n",
        "r = check_solution(assignment_id, student_func_str) "
      ],
      "execution_count": null,
      "outputs": []
    },
    {
      "cell_type": "code",
      "metadata": {
        "cellView": "form",
        "id": "ppuegPJsUg3L"
      },
      "source": [
        "#@title ## **send your answer**\n",
        "student_func_str = inspect.getsource(frobenius_norm)\n",
        "r = check_solution_and_evaluate(assignment_id, student_func_str) "
      ],
      "execution_count": null,
      "outputs": []
    },
    {
      "cell_type": "markdown",
      "metadata": {
        "id": "WNpbHNYpWSr8"
      },
      "source": [
        "### **In summary**\n",
        "\n",
        "<img src=\"https://gitlab.com/bivl2ab/academico/cursos-uis/ai/ai-uis-student/raw/master/imgs/numpysummary.png\" width=\"700\">\n",
        "\n",
        "Taken from [7]."
      ]
    },
    {
      "cell_type": "markdown",
      "metadata": {
        "id": "WKWsJZiazrul"
      },
      "source": [
        "## **About markdown please see the notebook complement 01**\n",
        "\n"
      ]
    },
    {
      "cell_type": "markdown",
      "metadata": {
        "id": "YCSA87eLzrvO"
      },
      "source": [
        "## **Referencias**\n",
        "\n",
        "[1] [official numpy tutorial](https://docs.scipy.org/doc/numpy/user/quickstart.html)\n",
        "\n",
        "[2] [Datacamp tutorial of numpy](https://www.datacamp.com/community/tutorials/python-numpy-tutorial)\n",
        "\n",
        "[3] [Other tutorial](https://www.twilio.com/blog/2017/10/basic-statistics-python-numpy-jupyter-notebook.html)\n",
        "\n",
        "[4] [About dictionaries](https://docs.python.org/3.5/library/stdtypes.html#dict)\n",
        "\n",
        "[5] [Mathematical functions in numpy](https://docs.scipy.org/doc/numpy/reference/routines.math.html)\n",
        "\n",
        "[6] [More deeply in numpy](https://docs.scipy.org/doc/numpy/reference/)\n",
        "\n",
        "[7] [Array programming with NumPy. Nature](https://www.nature.com/articles/s41586-020-2649-2)"
      ]
    },
    {
      "cell_type": "markdown",
      "metadata": {
        "id": "jRcLU8qvzrvT"
      },
      "source": [
        "---\n",
        "<img src=\"https://gitlab.com/bivl2ab/academico/cursos-uis/ai/ai-uis-student/raw/master/imgs/bannerThanks.jpg\" alt=\"Drawing\" style=\"width:700px;\">\n"
      ]
    }
  ]
}