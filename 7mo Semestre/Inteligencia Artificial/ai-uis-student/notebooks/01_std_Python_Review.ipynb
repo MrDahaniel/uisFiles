{
  "nbformat": 4,
  "nbformat_minor": 0,
  "metadata": {
    "colab": {
      "name": "01_std_Python_Review.ipynb",
      "provenance": [],
      "collapsed_sections": [
        "WKWsJZiazrul"
      ]
    },
    "kernelspec": {
      "display_name": "Python 3",
      "language": "python",
      "name": "python3"
    },
    "language_info": {
      "codemirror_mode": {
        "name": "ipython",
        "version": 2
      },
      "file_extension": ".py",
      "mimetype": "text/x-python",
      "name": "python",
      "nbconvert_exporter": "python",
      "pygments_lexer": "ipython2",
      "version": "2.7.14"
    },
    "toc": {
      "toc_cell": false,
      "toc_number_sections": true,
      "toc_threshold": 6,
      "toc_window_display": false
    }
  },
  "cells": [
    {
      "cell_type": "markdown",
      "metadata": {
        "id": "h6xUw6cmzrmb"
      },
      "source": [
        "<img src=\"https://gitlab.com/bivl2ab/academico/cursos-uis/ai/ai-uis-student/raw/master/imgs/banner_IA.png\"  width=\"1000px\" height=\"250px\">\n",
        "\n",
        "\n",
        "# <center> **01. Python review! </center>**\n",
        " \n",
        " \n",
        "\n",
        " \n",
        "##  **Outline**\n",
        "1. [**Python and data types**](#eje1)\n",
        "2. [**Data structures**](#eje2)\n",
        "3. [**Functions**](#eje3)\n",
        "\n",
        "\n"
      ]
    },
    {
      "cell_type": "code",
      "metadata": {
        "id": "uGA8zIoa_GTp",
        "cellView": "form",
        "colab": {
          "base_uri": "https://localhost:8080/",
          "height": 35
        },
        "outputId": "7708cbb7-b4a6-464e-bbad-fa691ca9d308"
      },
      "source": [
        "#@title **Execute this cell**\n",
        "#@markdown Please include your student id\n",
        "import sys\n",
        "import inspect\n",
        "\n",
        "group_id = \"H2\" #@param {type:\"string\"}\n",
        "assignment_id = 'ai1-'+group_id +'.20212.python'\n",
        "code_subject = '1'\n",
        "student_id = \"2210\" #@param {type:\"string\"}\n",
        "\"\"\"\n",
        "Put your student ID here\n",
        "\n",
        "Example: student_id =  '2152145'\n",
        "\"\"\" "
      ],
      "execution_count": null,
      "outputs": [
        {
          "output_type": "execute_result",
          "data": {
            "application/vnd.google.colaboratory.intrinsic+json": {
              "type": "string"
            },
            "text/plain": [
              "\"\\nPut your student ID here\\n\\nExample: student_id =  '2152145'\\n\""
            ]
          },
          "metadata": {},
          "execution_count": 20
        }
      ]
    },
    {
      "cell_type": "code",
      "metadata": {
        "id": "nFpT39v4_GH5",
        "cellView": "form"
      },
      "source": [
        "#@title **Execute this cell**\n",
        "#@markdown **UTILS**\n",
        "#@markdown Please dont modify any line in this cell\n",
        "\n",
        "import os\n",
        "import json\n",
        "import requests\n",
        "from collections import namedtuple\n",
        "\n",
        "\n",
        "Config = namedtuple('Config', ['server_name', 'course_name', 'student_id'])\n",
        "config = Config(server_name='https://azuregrader.azurewebsites.net/api', \n",
        "                course_name='ai1', student_id='2162107')\n",
        "\n",
        "\n",
        "def check_solution(assignment_id, student_func_str):\n",
        "\n",
        "    # Set the endpoint and payload.\n",
        "    payload = {'func_str': student_func_str, 'assignment_id': assignment_id}\n",
        "    endpoint_url = config.server_name + '/CheckSolution'\n",
        "    # print(endpoint_url)\n",
        "\n",
        "    # Make request to server with the data coming from the notebook.\n",
        "    r = requests.get(endpoint_url, params=payload)\n",
        "    pprint_json_response(r.json())\n",
        "    return r\n",
        "\n",
        "\n",
        "def check_solution_and_evaluate(assignment_id: str, student_func_str: str):\n",
        "\n",
        "    # Set the endpoint and payload.\n",
        "    payload = {\n",
        "        'func_str': student_func_str,\n",
        "        'assignment_id': assignment_id,\n",
        "        'student_id': student_id\n",
        "    }\n",
        "    endpoint_url = config.server_name + '/CheckAndEvaluateSolution'\n",
        "    # print(endpoint_url)\n",
        "\n",
        "    # Make request to server with the data coming from the notebook.\n",
        "    r = requests.post(endpoint_url, params=payload)\n",
        "    pprint_json_response(r.json())\n",
        "    return r\n",
        "\n",
        "\n",
        "def pprint_json_response(response, indent=0):\n",
        "    \"\"\"Pretty print the response.\"\"\"\n",
        "    for key, value in response.items():\n",
        "        print('\\t' * indent + str(key.capitalize()))\n",
        "\n",
        "        # If dictionary, do a recurrent call.\n",
        "        if isinstance(value, dict):\n",
        "            pprint_json_response(value, indent + 1)\n",
        "        else:\n",
        "            # Enumerate elements if list.\n",
        "            if isinstance(value, list):\n",
        "                if len(value) == 1:\n",
        "                    print('\\t' * (indent + 1) + str(value[0]))\n",
        "                else:\n",
        "                    for i, e in enumerate(value, start=1):\n",
        "                        print('\\t' * (indent + 1) + f'{i}. {e}')\n",
        "            else:\n",
        "                print('\\t' * (indent + 1) + str(value))"
      ],
      "execution_count": null,
      "outputs": []
    },
    {
      "cell_type": "markdown",
      "metadata": {
        "id": "wgX6eHK-zrmw"
      },
      "source": [
        "\n",
        "#**1.  Python and data types**  <a name=\"eje1\"></a>\n",
        "\n",
        "\n",
        "![fig_python](https://static.javatpoint.com/interview/images/advantages-of-python.png)\n",
        "\n",
        "Image Source: www.javatpoint.com\n",
        "\n",
        "\n",
        "1. **Python** is a high-level, dynamically typed multiparadigm and general-purpose programming language. The main use in this course is for scientific computing, allowing a powerful environment and the use of some popular libraries are numpy, scipy and matplotlib\n",
        "2. **Jupyter notebook** is a web based application to create and share dynamic documents with code, equations, text and visualization. \n",
        "3. **Numpy** is a scientific library that provides a high-performance multidimensional array object, and tools for working with these arrays\n",
        "\n",
        "\n",
        "### **Basic types and operations: an automatic assignation**\n",
        "\n",
        " Python has a number of basic types including integers (int), floats (float), booleans (bool), and strings (str) and even complex number representations (complex). In python the variable declaration is **not** explicit, the interpreter try to infer the type according to the use. \n",
        "\n",
        " ### **1.1 Numbers** "
      ]
    },
    {
      "cell_type": "code",
      "metadata": {
        "id": "QM5wxQIhBUQA",
        "cellView": "form"
      },
      "source": [
        "#@title **code** Run and analyze code lines\n",
        "x = 4\n",
        "print(\"Type of x: \", type(x))\n",
        "\n",
        "y = 4.0 \n",
        "print(\"Type of y: \", type(y))\n",
        "\n",
        "x = x + 1\n",
        "print(\"\\nForm 1-Sum: \", x)\n",
        "\n",
        "x += 1 \n",
        "print(\"Form 2-Sum: \", x)\n",
        "\n",
        "x *= 2\n",
        "print(\"\\nMultiplication: \", x)\n",
        "\n",
        "print(\"\\nExponentiation(**): \", x**2)\n",
        "print(\"\\nModular(%):\", x%12)"
      ],
      "execution_count": null,
      "outputs": []
    },
    {
      "cell_type": "markdown",
      "metadata": {
        "id": "Wkdd7AyzByBA"
      },
      "source": [
        "### **1.2 Booleans**\n",
        "\n",
        "**Important!**\n",
        "\n",
        "- Python does not have unary increment (x++) or decrement (x--) operators\n",
        "- Python implements all of the usual operators for Boolean logic, but uses English words rather than symbols (&&, ||, etc.)"
      ]
    },
    {
      "cell_type": "code",
      "metadata": {
        "id": "Fv9Pw9mNB8fI",
        "cellView": "form"
      },
      "source": [
        "#@title **code** Run and analyze code\n",
        "t = True \n",
        "f = False \n",
        "\n",
        "print(\"Type of t: \", type(t))\n",
        "print(\"Type of f: \", type(f), \"\\n\")\n",
        "\n",
        "print(\"Logical AND: \", t and f)   \n",
        "print(\"Logical OR:  \", t or f)    \n",
        "print(\"Logical NOT: \", not t)     \n",
        "print(\"Logical XOR: \", t != f) "
      ],
      "execution_count": null,
      "outputs": []
    },
    {
      "cell_type": "markdown",
      "metadata": {
        "id": "Xk9a8KgMzrnN"
      },
      "source": [
        "**Important!**\n",
        "\n",
        "- Python does not have unary increment (x++) or decrement (x--) operators\n",
        "- Python implements all of the usual operators for Boolean logic, but uses English words rather than symbols (&&, ||, etc.)"
      ]
    },
    {
      "cell_type": "code",
      "metadata": {
        "cellView": "form",
        "id": "sXz3x7h4CRoH"
      },
      "source": [
        "#@title **code:** Logic operators \n",
        "\n",
        "# Equal to\n",
        "print(100 == 1)\n",
        "\n",
        "# Less than and greater than\n",
        "print(100 >= 1)\n",
        "print(5 < 10)\n",
        "\n",
        "#string equivalences\n",
        "print('Intro to Python' == 'intro to python')\n",
        "print('Intro to Python' == 'Intro to Python')\n",
        "\n",
        "# more expressions\n",
        "print(100 == 100 and 50 == 100)\n",
        "print(100 == 100 or 50 == 100)\n",
        "\n",
        "# others\n",
        "print(not 1 == 1)"
      ],
      "execution_count": null,
      "outputs": []
    },
    {
      "cell_type": "markdown",
      "metadata": {
        "id": "OXjovAHtC-pS"
      },
      "source": [
        "### **1.3 Strings**\n",
        "String can be defined with single quotes or double quoutes"
      ]
    },
    {
      "cell_type": "code",
      "metadata": {
        "id": "E--ws909DO8N",
        "cellView": "form"
      },
      "source": [
        "#@title **code** Run and analyze\n",
        "word_1 = 'hello world'\n",
        "word_2 = \"hello world\"\n",
        "\n",
        "print(\"Length of word_1: \", len(word_1), \" (It include spaces and points)\")\n",
        "print(\"Length of word_2: \", len(word_2))\n",
        "\n",
        "# concatenation: we have to use \"+\" within strings\n",
        "a = \"My name\" \n",
        "b = \"is ....\"\n",
        "c = a + \" \" + b\n",
        "print(\"\\nConcatenation within a and b: \", c)\n",
        "\n",
        "\"\"\"\n",
        "Concatenation within string and int \n",
        "\"\"\"\n",
        "a = \"My age is\"\n",
        "b = 20\n",
        "\n",
        "# Form 1\n",
        "c = a + \" \" + str(b)\n",
        "print(\"\\nForm 1. Concatenation within string and int: \",c)\n",
        "\n",
        "#Form 2\n",
        "c = '%s %d' % (a, b)\n",
        "print(\"Form 2. Concatenation within string and int: \", c)"
      ],
      "execution_count": null,
      "outputs": []
    },
    {
      "cell_type": "code",
      "metadata": {
        "id": "ZjnjaBKLDcwv",
        "cellView": "form"
      },
      "source": [
        "#@title **code** Test other methods\n",
        "#@markdown The principal [string methods](https://www.w3schools.com/python/python_ref_string.asp) are: \n",
        "print(\"Split: \", word_1.split(' '))    # Split the word as of parameter\n",
        "print(\"Upper: \", word_1.upper())        # Convert a string to uppercase\n",
        "\n",
        "word = word_1.replace('world', 'people')  \n",
        "print(\"Change word: \", word)"
      ],
      "execution_count": null,
      "outputs": []
    },
    {
      "cell_type": "markdown",
      "metadata": {
        "id": "vuwUlHlFD0Kv"
      },
      "source": [
        "#**2.  Data structures**  <a name=\"eje2\"></a>\n",
        "\n",
        "Python includes several built-in container types: lists, dictionaries, sets, and tuples. At A.I, these structures are one of the most important issues that allows to manipulate **DATA**. \n"
      ]
    },
    {
      "cell_type": "markdown",
      "metadata": {
        "id": "XyxSdwZpzrna"
      },
      "source": [
        "## **2.1 Lists**\n",
        "\n",
        "List are **resizeable arrays** that  also can have **different element** types. \n"
      ]
    },
    {
      "cell_type": "code",
      "metadata": {
        "id": "Q9eZFvcFzrnc",
        "cellView": "form"
      },
      "source": [
        "#@title **code** working with **Lists**\n",
        "numbers = [1, 2, 3, 4, 5, 6, 7]\n",
        "days = ['Mon', 'Tue', 'Wed', 'Thur','Fri', 'Sat', 'Sun']\n",
        "mixed_list = ['Mon', 1, 'Tue', 2, 'Wed', 3]\n",
        "\n",
        "print(\"List of numbers: \", numbers)\n",
        "print(\"List of days: \", days)\n",
        "print(\"Mixed list: \", mixed_list)\n",
        "\n",
        "print(\"\\n-------------------------- \\nElements of number's list: \")\n",
        "print(\"\\nFirst element:\", numbers[0], \"\\nLast element: \", numbers[-1])\n",
        "\n",
        "numbers.append(7)\n",
        "print(\"\\nAppend new element: \", numbers)\n",
        "\n",
        "numbers.pop()\n",
        "print(\"Delete last element:\", numbers)"
      ],
      "execution_count": null,
      "outputs": []
    },
    {
      "cell_type": "markdown",
      "metadata": {
        "id": "keOnsSIpFQ_9"
      },
      "source": [
        "**List comprehension**\n",
        "\n",
        "Normally, you would use the following code to create a list that stores the square values:"
      ]
    },
    {
      "cell_type": "code",
      "metadata": {
        "cellView": "form",
        "id": "3l0FrAKSFZmv"
      },
      "source": [
        "#@title **Code** classically\n",
        "\n",
        "nums = [0, 1, 2, 3, 4]\n",
        "squares = []\n",
        "for x in nums:\n",
        "    squares.append(x ** 2)\n",
        "print(squares) "
      ],
      "execution_count": null,
      "outputs": []
    },
    {
      "cell_type": "code",
      "metadata": {
        "cellView": "form",
        "id": "GtbOVGh-FZMz"
      },
      "source": [
        "#@title **code**\n",
        "#@markdown but with list comprehension ...\n",
        "nums = [0, 1, 2, 3, 4]\n",
        "squares = [x ** 2 for x in nums]\n",
        "print(squares)"
      ],
      "execution_count": null,
      "outputs": []
    },
    {
      "cell_type": "code",
      "metadata": {
        "cellView": "form",
        "id": "s1U1v6-CGCbm"
      },
      "source": [
        "#@title **code** if-else conditions in one line\n",
        "num = 40\n",
        "answer = 'Even' if num % 2 == 0 else 'Odd'\n",
        "print(answer)"
      ],
      "execution_count": null,
      "outputs": []
    },
    {
      "cell_type": "markdown",
      "metadata": {
        "id": "QXn74Jamzrno"
      },
      "source": [
        "<img src=\"https://gitlab.com/bivl2ab/academico/cursos-uis/ai/ai-2-uis-student/-/raw/master/imgs/icon1.png\" width=\"200\">\n",
        "\n",
        "- What is `range` in python?\n",
        "- Create a `List` with `range` that have even numbers from 100 until 500. \n",
        "\n",
        "```\n",
        "[100, 102, 104, ..., 500]\n",
        "```\n"
      ]
    },
    {
      "cell_type": "code",
      "metadata": {
        "id": "vcDh3dmnWGRa"
      },
      "source": [
        "def even_numbers_range():\n",
        "\n",
        "   \"\"\" \n",
        "  Put your code here \n",
        "  \"\"\" \n",
        "\n",
        "  pass"
      ],
      "execution_count": null,
      "outputs": []
    },
    {
      "cell_type": "code",
      "metadata": {
        "id": "4A61x0LtWLgx",
        "cellView": "form"
      },
      "source": [
        "#@title ## **Check your answer**\n",
        "student_func_str = inspect.getsource(even_numbers_range)\n",
        "r = check_solution(assignment_id, student_func_str) "
      ],
      "execution_count": null,
      "outputs": []
    },
    {
      "cell_type": "code",
      "metadata": {
        "id": "yX9B0cjEWTUD",
        "cellView": "form"
      },
      "source": [
        "#@title ## **send your answer**\n",
        "student_func_str = inspect.getsource(even_numbers_range)\n",
        "r = check_solution_and_evaluate(assignment_id, student_func_str) "
      ],
      "execution_count": null,
      "outputs": []
    },
    {
      "cell_type": "markdown",
      "metadata": {
        "id": "eM4UJZykW9JC"
      },
      "source": [
        "<img src=\"https://gitlab.com/bivl2ab/academico/cursos-uis/ai/ai-2-uis-student/-/raw/master/imgs/icon1.png\" width=\"200\">\n",
        "\n",
        "- Given the lists a and b check which of the elements in index `i` is greater and append in a new list `c`.\n",
        "\n",
        "\n",
        "```\n",
        "a = [7, 5, 1, 2, 3] \n",
        "b = [9, 4, 7, 6, 0] \n",
        "\n",
        "a[0] = 7\n",
        "b[0] = 9 \n",
        "\n",
        "c[0] = 9\n",
        "```\n"
      ]
    },
    {
      "cell_type": "code",
      "metadata": {
        "id": "RrHRYXAhXHua"
      },
      "source": [
        "def greater_number_list():\n",
        "\n",
        "  \"\"\" \n",
        "  Put your code here \n",
        "  \"\"\" \n",
        "\n",
        "  pass"
      ],
      "execution_count": null,
      "outputs": []
    },
    {
      "cell_type": "code",
      "metadata": {
        "id": "Ft3oL3wFXHsC",
        "cellView": "form"
      },
      "source": [
        "#@title ## **Check your answer**\n",
        "student_func_str = inspect.getsource(greater_number_list)\n",
        "r = check_solution(assignment_id, student_func_str) "
      ],
      "execution_count": null,
      "outputs": []
    },
    {
      "cell_type": "code",
      "metadata": {
        "id": "4VhwxwKLXHpb",
        "cellView": "form"
      },
      "source": [
        "#@title ## **send your answer**\n",
        "student_func_str = inspect.getsource(greater_number_list)\n",
        "r = check_solution_and_evaluate(assignment_id, student_func_str) "
      ],
      "execution_count": null,
      "outputs": []
    },
    {
      "cell_type": "markdown",
      "metadata": {
        "id": "HhCb44SRYIPR"
      },
      "source": [
        "<img src=\"https://gitlab.com/bivl2ab/academico/cursos-uis/ai/ai-2-uis-student/-/raw/master/imgs/icon1.png\" width=\"200\">\n",
        "\n",
        "- Define a variable of string `phrase` that contains `Artificial Intelligence`. \n",
        "- Create list `letters` that append in a loop each letter present in the `phrase`\n",
        "- Don't append the spaces in the `phrase`"
      ]
    },
    {
      "cell_type": "code",
      "metadata": {
        "id": "0z6wmNuGXHnG"
      },
      "source": [
        "def string_list():\n",
        "\n",
        "  \"\"\" \n",
        "  Put your code here \n",
        "  \"\"\" \n",
        "\n",
        "  pass"
      ],
      "execution_count": null,
      "outputs": []
    },
    {
      "cell_type": "code",
      "metadata": {
        "id": "4PibctagXHkq",
        "cellView": "form"
      },
      "source": [
        "#@title ## **Check your answer**\n",
        "student_func_str = inspect.getsource(string_list)\n",
        "r = check_solution(assignment_id, student_func_str) "
      ],
      "execution_count": null,
      "outputs": []
    },
    {
      "cell_type": "code",
      "metadata": {
        "id": "f9l_-gdhXHiL",
        "cellView": "form"
      },
      "source": [
        "#@title ## **send your answer**\n",
        "student_func_str = inspect.getsource(string_list)\n",
        "r = check_solution_and_evaluate(assignment_id, student_func_str) "
      ],
      "execution_count": null,
      "outputs": []
    },
    {
      "cell_type": "markdown",
      "metadata": {
        "id": "nFoEu9wzbRRv"
      },
      "source": [
        "## **2.2 Loops**\n",
        "\n",
        "In Python, you can iterate a list of different ways. This depend on what you want to do. "
      ]
    },
    {
      "cell_type": "code",
      "metadata": {
        "cellView": "form",
        "id": "eR8CO3_EXHfy"
      },
      "source": [
        "#@title **code**  option one\n",
        "animals = ['cat', 'dog', 'monkey']\n",
        "for animal in animals:\n",
        "    print(\"Value: \", animal)"
      ],
      "execution_count": null,
      "outputs": []
    },
    {
      "cell_type": "code",
      "metadata": {
        "cellView": "form",
        "id": "Xj_0tpUEbWsg"
      },
      "source": [
        "#@title **code**  option two\n",
        "animals = ['cat', 'dog', 'monkey']\n",
        "for i, animal in enumerate(animals):\n",
        "    print(\"Index: \", i, \" Value: \", animal)"
      ],
      "execution_count": null,
      "outputs": []
    },
    {
      "cell_type": "code",
      "metadata": {
        "cellView": "form",
        "id": "bXWzhmanbcqx"
      },
      "source": [
        "#@title **code**  option three\n",
        "animals = ['cat', 'dog', 'monkey']\n",
        "for animal in range(len(animals)):\n",
        "    print(\"Index: \", animal, \" Value: \", animals[animal])"
      ],
      "execution_count": null,
      "outputs": []
    },
    {
      "cell_type": "markdown",
      "metadata": {
        "id": "X39ZokZCRcnW"
      },
      "source": [
        "## **2.3 Dictionaries**\n",
        "\n",
        "The dictionaries are **special lists** like `hashes` in Java that index according to `(key, value)` pairs"
      ]
    },
    {
      "cell_type": "code",
      "metadata": {
        "id": "syNQ4JEIR4w6",
        "cellView": "form"
      },
      "source": [
        "#@title **Code** working with **Dictionaries**\n",
        "\n",
        "d = {'cat': 'cute', 'dog': 'furry'}\n",
        "\n",
        "print(\"Dictionary of animals:\\t\", d)\n",
        "print(\"Keys of dictionary:\\t\", d.keys())\n",
        "print(\"Values of dictionary:\\t\", d.values())\n",
        "\n",
        "print(\"\\nAccess to a specific key, in this case, cat: \", d['cat'])       \n",
        "\n",
        "# Check if a dictionary has a given key\n",
        "value = 'cat' in d\n",
        "print(\"\\nIs cat in dictionary d?\\t\", value )     \n",
        "\n",
        "value = 'bird' in d\n",
        "print(\"Is bird in dictionary d?\", value )  \n",
        "\n",
        "# Set an entry in a dictionary\n",
        "d['fish'] = 'wet'     \n",
        "print(\"\\nNew element in dictionary:\\t\", d)\n",
        "\n",
        "# Remove an element from a dictionary\n",
        "del d['fish']         \n",
        "print(\"Remove an element in dictionary:\", d)\n"
      ],
      "execution_count": null,
      "outputs": []
    },
    {
      "cell_type": "code",
      "metadata": {
        "cellView": "form",
        "id": "ciVlfngDb9B_"
      },
      "source": [
        "#@title **code** operate with dictionaries\n",
        "\n",
        "#create a dictionary with keys and values of different types\n",
        "d = {'person': 2, 'cat': 4, 'spider': 8}\n",
        "\n",
        "#Loops\n",
        "for animal, legs in d.items():\n",
        "    print('A %s has %d legs' % (animal, legs))\n",
        "#Loops\n",
        "for key in d.keys():\n",
        "    print('A ', key, 'has ', d[key], 'legs')    "
      ],
      "execution_count": null,
      "outputs": []
    },
    {
      "cell_type": "markdown",
      "metadata": {
        "id": "ybttfF2mcPF4"
      },
      "source": [
        "<img src=\"https://gitlab.com/bivl2ab/academico/cursos-uis/ai/ai-2-uis-student/-/raw/master/imgs/icon1.png\" width=\"200\">\n",
        "\n",
        "- The dictionary `d` contains as key `names` and `ages`of different persons. \n",
        "- You have to extract the respective name and age and construct a string with this information. \n",
        "-  Append the string in a list and return it.\n",
        "\n",
        "```\n",
        "Theodore has 18 years\n",
        "```"
      ]
    },
    {
      "cell_type": "code",
      "metadata": {
        "id": "WDFSzHIHcTVn"
      },
      "source": [
        "def names_and_ages():\n",
        "\n",
        "  d = {'name': ['Theodore', 'Mathew', 'David'], 'age': [18, 22, 30]}\n",
        "  \n",
        "  \"\"\" \n",
        "  Put your code here \n",
        "  \"\"\" \n",
        "\n",
        "  pass"
      ],
      "execution_count": null,
      "outputs": []
    },
    {
      "cell_type": "code",
      "metadata": {
        "id": "pgM1D0XjcUYw",
        "cellView": "form"
      },
      "source": [
        "#@title **Check your answer**\n",
        "student_func_str = inspect.getsource(names_and_ages)\n",
        "r = check_solution(assignment_id, student_func_str) "
      ],
      "execution_count": null,
      "outputs": []
    },
    {
      "cell_type": "code",
      "metadata": {
        "id": "Jta8LT_McV-o",
        "cellView": "form"
      },
      "source": [
        "#@title **Send your answer**\n",
        "student_func_str = inspect.getsource(names_and_ages)\n",
        "r = check_solution_and_evaluate(assignment_id, student_func_str) "
      ],
      "execution_count": null,
      "outputs": []
    },
    {
      "cell_type": "markdown",
      "metadata": {
        "id": "UGddh2-USxgP"
      },
      "source": [
        "# **3 Functions**  <a name=\"eje3\"></a>\n",
        "\n",
        "The functions are totally flexible: \n",
        "-  The type of function arguments is not declared.\n",
        "- structured through **indentation**, i.e. code blocks are defined by their indentation\n",
        "- The implementation should be prepared to works with the data types required !\n",
        "- If we initiallize  arguments, the functions work as **overload methods**\n",
        "- They can return several values"
      ]
    },
    {
      "cell_type": "code",
      "metadata": {
        "id": "InFLgLbrTX4G",
        "cellView": "form"
      },
      "source": [
        "#@title **Code** working with **Functions**\n",
        "\n",
        "# Functions and overload methods\n",
        "def f_power(x, p=2):\n",
        "    return x**p\n",
        "\n",
        "\n",
        "print(f_power(x=3))\n",
        "print(f_power(p=4, x=3)) \n",
        "\n",
        "\n",
        "# Return several values\n",
        "def f_power(x, p=2):\n",
        "    return x**p, x*p\n",
        "\n",
        "r = f_power(p=4, x=3)\n",
        "print(r[1])\n",
        "\n",
        "r1, r2 = f_power(p=4, x=3)\n",
        "print(r1)\n",
        "print(r2)\n",
        "\n",
        "# More examples\n",
        "def f_powers(x, p1=2, p2=3):\n",
        "    return x**p1, x**p2\n",
        "\n",
        "print(f_power(4))\n",
        "print(f_power(4,3))\n",
        "print(f_powers(4, p1=3))\n",
        "xp1, xp2 = f_powers(4, p2=4, p1=3)\n",
        "print(\"power1\",xp1, \"power2\", xp2)\n",
        "\n"
      ],
      "execution_count": null,
      "outputs": []
    },
    {
      "cell_type": "markdown",
      "metadata": {
        "id": "wflgF2pvdLIF"
      },
      "source": [
        "<img src=\"https://gitlab.com/bivl2ab/academico/cursos-uis/ai/ai-2-uis-student/-/raw/master/imgs/icon1.png\" width=\"200\">\n",
        "\n",
        "- The function `math` receives as parameter the values of `a` and `b`, which are the operands. On the other hand, it receives the `operation` to be performed. \n",
        "- With these parameters, the code must perform the operation indicated by the user, and return the result. \n",
        "- The operations allowed are: addition, subtraction, division, multiplication and power."
      ]
    },
    {
      "cell_type": "code",
      "metadata": {
        "id": "m_1GRoa4dnu2"
      },
      "source": [
        "def math(a, b, operation):\n",
        "  \n",
        "  \"\"\" \n",
        "  Put your code here \n",
        "  \"\"\" \n",
        "\n",
        "  pass"
      ],
      "execution_count": null,
      "outputs": []
    },
    {
      "cell_type": "code",
      "metadata": {
        "id": "NROdoANSdofn",
        "cellView": "form"
      },
      "source": [
        "#@title **Check your answer**\n",
        "student_func_str = inspect.getsource(math)\n",
        "r = check_solution(assignment_id, student_func_str) "
      ],
      "execution_count": null,
      "outputs": []
    },
    {
      "cell_type": "code",
      "metadata": {
        "id": "EtoYqgB6d7r3",
        "cellView": "form"
      },
      "source": [
        "#@title **Send your answer**\n",
        "student_func_str = inspect.getsource(math)\n",
        "r = check_solution_and_evaluate(assignment_id, student_func_str) "
      ],
      "execution_count": null,
      "outputs": []
    },
    {
      "cell_type": "markdown",
      "metadata": {
        "id": "WKWsJZiazrul"
      },
      "source": [
        "## **About markdown please see the notebook complement 01**\n",
        "\n"
      ]
    },
    {
      "cell_type": "markdown",
      "metadata": {
        "id": "YCSA87eLzrvO"
      },
      "source": [
        "## **Referencias**\n",
        "\n",
        "[1] [official numpy tutorial](https://docs.scipy.org/doc/numpy/user/quickstart.html)\n",
        "\n",
        "[2] [Datacamp tutorial of numpy](https://www.datacamp.com/community/tutorials/python-numpy-tutorial)\n",
        "\n",
        "[3] [Other tutorial](https://www.twilio.com/blog/2017/10/basic-statistics-python-numpy-jupyter-notebook.html)\n",
        "\n",
        "[4] [About dictionaries](https://docs.python.org/3.5/library/stdtypes.html#dict)\n",
        "\n",
        "[5] [Mathematical functions in numpy](https://docs.scipy.org/doc/numpy/reference/routines.math.html)\n",
        "\n",
        "[6] [More deeply in numpy](https://docs.scipy.org/doc/numpy/reference/)\n",
        "\n",
        "[7] [Array programming with NumPy. Nature](https://www.nature.com/articles/s41586-020-2649-2)"
      ]
    },
    {
      "cell_type": "markdown",
      "metadata": {
        "id": "jRcLU8qvzrvT"
      },
      "source": [
        "---\n",
        "<img src=\"https://gitlab.com/bivl2ab/academico/cursos-uis/ai/ai-uis-student/raw/master/imgs/bannerThanks.jpg\" alt=\"Drawing\" style=\"width:700px;\">\n"
      ]
    }
  ]
}