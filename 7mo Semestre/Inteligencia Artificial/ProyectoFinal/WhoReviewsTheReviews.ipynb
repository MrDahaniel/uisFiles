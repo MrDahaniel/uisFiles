{
  "cells": [
    {
      "cell_type": "markdown",
      "metadata": {
        "id": "AXrxZIsMqZry"
      },
      "source": [
        "![](https://i.imgur.com/N3EIWfx.png)"
      ]
    },
    {
      "cell_type": "markdown",
      "metadata": {
        "id": "3JfzkG2pmrtb"
      },
      "source": [
        "1. [**Dataset's**](#eje1)\n",
        "2. [**Description**](#eje2)"
      ]
    },
    {
      "cell_type": "markdown",
      "metadata": {
        "id": "VFraRge6qoXk"
      },
      "source": [
        "---"
      ]
    },
    {
      "cell_type": "markdown",
      "metadata": {
        "id": "7d11QR8DmKnV"
      },
      "source": [
        "<h1> <b>Integrantes</b> </h1>\n",
        "\n",
        "<ul>\n",
        "  <li>Daniel David Delgado Cervantes - 2182066 <b>Grupo H2</b></li>\n",
        "  <li>Gianfranco Estevez Ruiz - 2183074 <b>Grupo H1</b> </li>\n",
        "  <li>Edward Javier Parada Silva - 2182070 <b>Grupo H2</b></li>\n",
        "\n",
        "</ul>\n"
      ]
    },
    {
      "cell_type": "markdown",
      "metadata": {
        "id": "o6qp6LvenhTs"
      },
      "source": [
        "# **1. Dataset's**\n"
      ]
    },
    {
      "cell_type": "code",
      "execution_count": 2,
      "metadata": {
        "colab": {
          "base_uri": "https://localhost:8080/",
          "height": 363
        },
        "id": "PpuW9fVGXTBn",
        "outputId": "175c2f14-555b-4e5d-ae7c-20a132dbfc73"
      },
      "outputs": [
        {
          "data": {
            "text/html": [
              "<div>\n",
              "<style scoped>\n",
              "    .dataframe tbody tr th:only-of-type {\n",
              "        vertical-align: middle;\n",
              "    }\n",
              "\n",
              "    .dataframe tbody tr th {\n",
              "        vertical-align: top;\n",
              "    }\n",
              "\n",
              "    .dataframe thead th {\n",
              "        text-align: right;\n",
              "    }\n",
              "</style>\n",
              "<table border=\"1\" class=\"dataframe\">\n",
              "  <thead>\n",
              "    <tr style=\"text-align: right;\">\n",
              "      <th></th>\n",
              "      <th>category</th>\n",
              "      <th>rating</th>\n",
              "      <th>label</th>\n",
              "      <th>text</th>\n",
              "    </tr>\n",
              "  </thead>\n",
              "  <tbody>\n",
              "    <tr>\n",
              "      <th>0</th>\n",
              "      <td>Home_and_Kitchen_5</td>\n",
              "      <td>5.0</td>\n",
              "      <td>CG</td>\n",
              "      <td>Love this!  Well made, sturdy, and very comfor...</td>\n",
              "    </tr>\n",
              "    <tr>\n",
              "      <th>1</th>\n",
              "      <td>Home_and_Kitchen_5</td>\n",
              "      <td>5.0</td>\n",
              "      <td>CG</td>\n",
              "      <td>love it, a great upgrade from the original.  I...</td>\n",
              "    </tr>\n",
              "    <tr>\n",
              "      <th>2</th>\n",
              "      <td>Home_and_Kitchen_5</td>\n",
              "      <td>5.0</td>\n",
              "      <td>CG</td>\n",
              "      <td>This pillow saved my back. I love the look and...</td>\n",
              "    </tr>\n",
              "    <tr>\n",
              "      <th>3</th>\n",
              "      <td>Home_and_Kitchen_5</td>\n",
              "      <td>1.0</td>\n",
              "      <td>CG</td>\n",
              "      <td>Missing information on how to use it, but it i...</td>\n",
              "    </tr>\n",
              "    <tr>\n",
              "      <th>4</th>\n",
              "      <td>Home_and_Kitchen_5</td>\n",
              "      <td>5.0</td>\n",
              "      <td>CG</td>\n",
              "      <td>Very nice set. Good quality. We have had the s...</td>\n",
              "    </tr>\n",
              "    <tr>\n",
              "      <th>5</th>\n",
              "      <td>Home_and_Kitchen_5</td>\n",
              "      <td>3.0</td>\n",
              "      <td>CG</td>\n",
              "      <td>I WANTED DIFFERENT FLAVORS BUT THEY ARE NOT.</td>\n",
              "    </tr>\n",
              "    <tr>\n",
              "      <th>6</th>\n",
              "      <td>Home_and_Kitchen_5</td>\n",
              "      <td>5.0</td>\n",
              "      <td>CG</td>\n",
              "      <td>They are the perfect touch for me and the only...</td>\n",
              "    </tr>\n",
              "    <tr>\n",
              "      <th>7</th>\n",
              "      <td>Home_and_Kitchen_5</td>\n",
              "      <td>3.0</td>\n",
              "      <td>CG</td>\n",
              "      <td>These done fit well and look great.  I love th...</td>\n",
              "    </tr>\n",
              "    <tr>\n",
              "      <th>8</th>\n",
              "      <td>Home_and_Kitchen_5</td>\n",
              "      <td>5.0</td>\n",
              "      <td>CG</td>\n",
              "      <td>Great big numbers &amp; easy to read, the only thi...</td>\n",
              "    </tr>\n",
              "    <tr>\n",
              "      <th>9</th>\n",
              "      <td>Home_and_Kitchen_5</td>\n",
              "      <td>5.0</td>\n",
              "      <td>CG</td>\n",
              "      <td>My son loves this comforter and it is very wel...</td>\n",
              "    </tr>\n",
              "  </tbody>\n",
              "</table>\n",
              "</div>"
            ],
            "text/plain": [
              "             category  rating label  \\\n",
              "0  Home_and_Kitchen_5     5.0    CG   \n",
              "1  Home_and_Kitchen_5     5.0    CG   \n",
              "2  Home_and_Kitchen_5     5.0    CG   \n",
              "3  Home_and_Kitchen_5     1.0    CG   \n",
              "4  Home_and_Kitchen_5     5.0    CG   \n",
              "5  Home_and_Kitchen_5     3.0    CG   \n",
              "6  Home_and_Kitchen_5     5.0    CG   \n",
              "7  Home_and_Kitchen_5     3.0    CG   \n",
              "8  Home_and_Kitchen_5     5.0    CG   \n",
              "9  Home_and_Kitchen_5     5.0    CG   \n",
              "\n",
              "                                                text  \n",
              "0  Love this!  Well made, sturdy, and very comfor...  \n",
              "1  love it, a great upgrade from the original.  I...  \n",
              "2  This pillow saved my back. I love the look and...  \n",
              "3  Missing information on how to use it, but it i...  \n",
              "4  Very nice set. Good quality. We have had the s...  \n",
              "5       I WANTED DIFFERENT FLAVORS BUT THEY ARE NOT.  \n",
              "6  They are the perfect touch for me and the only...  \n",
              "7  These done fit well and look great.  I love th...  \n",
              "8  Great big numbers & easy to read, the only thi...  \n",
              "9  My son loves this comforter and it is very wel...  "
            ]
          },
          "execution_count": 2,
          "metadata": {},
          "output_type": "execute_result"
        }
      ],
      "source": [
        "#@title <i>Review Dataset\n",
        "import pandas as pd\n",
        "import numpy as np\n",
        "\n",
        "# load the dataset\n",
        "\n",
        "data = pd.read_csv('https://raw.githubusercontent.com/Gacrucis/WhoReviewsTheReviews/main/fake_revievs_dataset.csv')\n",
        "data.head(10)"
      ]
    },
    {
      "cell_type": "markdown",
      "metadata": {
        "id": "E5FY_yIcsLZn"
      },
      "source": [
        "\n",
        "<br>\n",
        "<p> There are 4 columns with the following categories: </p>\n",
        "<br>\n",
        "\n",
        "<h3>Categories </h3>\n",
        "\n",
        "<ul>\n",
        "  <li>Clothing Shoes and Jewelry</li>\n",
        "  <li>Electronics</li>\n",
        "  <li>Home and Chicken</li>\n",
        "  <li>Kindle Store</li>\n",
        "  <li>Movies and TV</li>\n",
        "  <li>Pet Supplies</li>\n",
        "  <li>Sports and Outdoors</li>\n",
        "  <li>Tools and Home Improvement</li>\n",
        "  <li>Toys and Games</li>\n",
        "  <li>Books</li>\n",
        "</ul>\n",
        "<br>\n",
        "\n",
        "<h3>Rating </h3>\n",
        "<ul>\n",
        "  <li>This column has values between 1 - 5 stars</li>\n",
        "</ul>\n",
        "<br>\n",
        "\n",
        "<h3>Label </h3>\n",
        "<ul>\n",
        "  <li>CG -> Computer Genereted</li>\n",
        "  <li>OG -> Original Review</li>\n",
        "</ul>\n",
        "<br>\n",
        "\n",
        "<h3>Text</h3>\n",
        "<p>This column has the review's description </p>\n",
        "\n",
        "<br>"
      ]
    },
    {
      "cell_type": "markdown",
      "metadata": {
        "id": "rFASQz9KipWD"
      },
      "source": [
        "\n",
        "<br>\n",
        "<h1><b>Sentimental Lexicon Dataset </b></h1>\n",
        "<br>\n",
        "<p> This dataset has positive and negative (1 is positive and -1 is negative) words that will be used to categorize reviews based in the how sentimentality value. <p/>\n",
        "\n",
        "source: https://www.cs.uic.edu/~liub/FBS/sentiment-analysis.html#lexicon\n",
        "\n"
      ]
    },
    {
      "cell_type": "code",
      "execution_count": 3,
      "metadata": {
        "colab": {
          "base_uri": "https://localhost:8080/",
          "height": 424
        },
        "id": "N_wETr-Ridc6",
        "outputId": "ceb44cf4-8f18-44cb-c6cb-03d127ff691f"
      },
      "outputs": [
        {
          "data": {
            "text/html": [
              "<div>\n",
              "<style scoped>\n",
              "    .dataframe tbody tr th:only-of-type {\n",
              "        vertical-align: middle;\n",
              "    }\n",
              "\n",
              "    .dataframe tbody tr th {\n",
              "        vertical-align: top;\n",
              "    }\n",
              "\n",
              "    .dataframe thead th {\n",
              "        text-align: right;\n",
              "    }\n",
              "</style>\n",
              "<table border=\"1\" class=\"dataframe\">\n",
              "  <thead>\n",
              "    <tr style=\"text-align: right;\">\n",
              "      <th></th>\n",
              "      <th>word</th>\n",
              "      <th>value</th>\n",
              "    </tr>\n",
              "  </thead>\n",
              "  <tbody>\n",
              "    <tr>\n",
              "      <th>0</th>\n",
              "      <td>a+</td>\n",
              "      <td>1</td>\n",
              "    </tr>\n",
              "    <tr>\n",
              "      <th>1</th>\n",
              "      <td>abound</td>\n",
              "      <td>1</td>\n",
              "    </tr>\n",
              "    <tr>\n",
              "      <th>2</th>\n",
              "      <td>abounds</td>\n",
              "      <td>1</td>\n",
              "    </tr>\n",
              "    <tr>\n",
              "      <th>3</th>\n",
              "      <td>abundance</td>\n",
              "      <td>1</td>\n",
              "    </tr>\n",
              "    <tr>\n",
              "      <th>4</th>\n",
              "      <td>abundant</td>\n",
              "      <td>1</td>\n",
              "    </tr>\n",
              "    <tr>\n",
              "      <th>...</th>\n",
              "      <td>...</td>\n",
              "      <td>...</td>\n",
              "    </tr>\n",
              "    <tr>\n",
              "      <th>6784</th>\n",
              "      <td>zaps</td>\n",
              "      <td>-1</td>\n",
              "    </tr>\n",
              "    <tr>\n",
              "      <th>6785</th>\n",
              "      <td>zealot</td>\n",
              "      <td>-1</td>\n",
              "    </tr>\n",
              "    <tr>\n",
              "      <th>6786</th>\n",
              "      <td>zealous</td>\n",
              "      <td>-1</td>\n",
              "    </tr>\n",
              "    <tr>\n",
              "      <th>6787</th>\n",
              "      <td>zealously</td>\n",
              "      <td>-1</td>\n",
              "    </tr>\n",
              "    <tr>\n",
              "      <th>6788</th>\n",
              "      <td>zombie</td>\n",
              "      <td>-1</td>\n",
              "    </tr>\n",
              "  </tbody>\n",
              "</table>\n",
              "<p>6789 rows × 2 columns</p>\n",
              "</div>"
            ],
            "text/plain": [
              "           word   value\n",
              "0            a+       1\n",
              "1        abound       1\n",
              "2       abounds       1\n",
              "3     abundance       1\n",
              "4      abundant       1\n",
              "...         ...     ...\n",
              "6784       zaps      -1\n",
              "6785     zealot      -1\n",
              "6786    zealous      -1\n",
              "6787  zealously      -1\n",
              "6788     zombie      -1\n",
              "\n",
              "[6789 rows x 2 columns]"
            ]
          },
          "execution_count": 3,
          "metadata": {},
          "output_type": "execute_result"
        }
      ],
      "source": [
        "#@title <i>Sentimental Lexicon Dataset\n",
        "\n",
        "data_lexicon = pd.read_csv('https://raw.githubusercontent.com/Gacrucis/WhoReviewsTheReviews/main/lexicon.csv')\n",
        "data_lexicon"
      ]
    },
    {
      "cell_type": "markdown",
      "metadata": {
        "id": "bsuTGRU6ntJK"
      },
      "source": [
        "# **2. Problem Description** <a name=\"eje2\">"
      ]
    },
    {
      "cell_type": "markdown",
      "metadata": {
        "id": "hikK-4SPs6Pc"
      },
      "source": [
        "Let's see an example with the first row in <i> Dataset review </i>"
      ]
    },
    {
      "cell_type": "code",
      "execution_count": 4,
      "metadata": {
        "colab": {
          "base_uri": "https://localhost:8080/",
          "height": 81
        },
        "id": "CUIC6KNHs52v",
        "outputId": "98ef12bf-5c1e-4624-bf13-d67ae487c3fb"
      },
      "outputs": [
        {
          "data": {
            "text/html": [
              "<div>\n",
              "<style scoped>\n",
              "    .dataframe tbody tr th:only-of-type {\n",
              "        vertical-align: middle;\n",
              "    }\n",
              "\n",
              "    .dataframe tbody tr th {\n",
              "        vertical-align: top;\n",
              "    }\n",
              "\n",
              "    .dataframe thead th {\n",
              "        text-align: right;\n",
              "    }\n",
              "</style>\n",
              "<table border=\"1\" class=\"dataframe\">\n",
              "  <thead>\n",
              "    <tr style=\"text-align: right;\">\n",
              "      <th></th>\n",
              "      <th>category</th>\n",
              "      <th>rating</th>\n",
              "      <th>label</th>\n",
              "      <th>text</th>\n",
              "    </tr>\n",
              "  </thead>\n",
              "  <tbody>\n",
              "    <tr>\n",
              "      <th>0</th>\n",
              "      <td>Home_and_Kitchen_5</td>\n",
              "      <td>5.0</td>\n",
              "      <td>CG</td>\n",
              "      <td>Love this!  Well made, sturdy, and very comfor...</td>\n",
              "    </tr>\n",
              "  </tbody>\n",
              "</table>\n",
              "</div>"
            ],
            "text/plain": [
              "             category  rating label  \\\n",
              "0  Home_and_Kitchen_5     5.0    CG   \n",
              "\n",
              "                                                text  \n",
              "0  Love this!  Well made, sturdy, and very comfor...  "
            ]
          },
          "execution_count": 4,
          "metadata": {},
          "output_type": "execute_result"
        }
      ],
      "source": [
        "data.head(1)"
      ]
    },
    {
      "cell_type": "markdown",
      "metadata": {
        "id": "01k2pDLevk0Q"
      },
      "source": [
        "First of all, the puctuation symbols found in each text will be replace with space characters. Then, separate all words in a list."
      ]
    },
    {
      "cell_type": "code",
      "execution_count": 5,
      "metadata": {
        "colab": {
          "base_uri": "https://localhost:8080/"
        },
        "id": "_1M3EuCLvOrg",
        "outputId": "7ec46ee5-85c6-4e05-8858-f98ffb786dfa"
      },
      "outputs": [
        {
          "name": "stdout",
          "output_type": "stream",
          "text": [
            "Text with symbols:\n",
            "Love this!  Well made, sturdy, and very comfortable.  I love it!Very pretty\n",
            " \n",
            "Text without symbols:\n",
            "Love this   Well made  sturdy  and very comfortable   I love it Very pretty\n",
            " \n",
            "Separate each word:\n",
            "['Love', 'this', '', '', 'Well', 'made', '', 'sturdy', '', 'and', 'very', 'comfortable', '', '', 'I', 'love', 'it', 'Very', 'pretty']\n"
          ]
        }
      ],
      "source": [
        "#@title\n",
        "\n",
        "punctuations = [',', '.', '?', '¿', '!', '@', '$', '(', ')', ':']\n",
        "\n",
        "example_text = data.values[0, 3]\n",
        "text_ws = example_text\n",
        "print('Text with symbols:')\n",
        "print(example_text)\n",
        "\n",
        "for punc in punctuations:\n",
        "\n",
        "  text_ws = text_ws.replace(punc, ' ')\n",
        "\n",
        "print(' ')\n",
        "print('Text without symbols:')\n",
        "print(text_ws)\n",
        "\n",
        "print(' ')\n",
        "print('Separate each word:')\n",
        "words = text_ws.split(' ')\n",
        "print(words)"
      ]
    },
    {
      "cell_type": "markdown",
      "metadata": {
        "id": "d9OMrvhS05nM"
      },
      "source": [
        "Every word has one value (1 or -1, 0 if it doesn't exists)"
      ]
    },
    {
      "cell_type": "code",
      "execution_count": 6,
      "metadata": {
        "colab": {
          "base_uri": "https://localhost:8080/"
        },
        "id": "D8hrfTBW1FXT",
        "outputId": "30e690bd-a645-42d2-ce63-c62d8519a408"
      },
      "outputs": [
        {
          "ename": "TypeError",
          "evalue": "unhashable type: 'slice'",
          "output_type": "error",
          "traceback": [
            "\u001b[0;31m---------------------------------------------------------------------------\u001b[0m",
            "\u001b[0;31mTypeError\u001b[0m                                 Traceback (most recent call last)",
            "\u001b[0;32m/tmp/ipykernel_77253/409160227.py\u001b[0m in \u001b[0;36m<module>\u001b[0;34m\u001b[0m\n\u001b[1;32m      1\u001b[0m \u001b[0mlexicon_dict\u001b[0m \u001b[0;34m=\u001b[0m \u001b[0;34m{\u001b[0m\u001b[0mword\u001b[0m\u001b[0;34m:\u001b[0m \u001b[0mvalue\u001b[0m \u001b[0;32mfor\u001b[0m \u001b[0mword\u001b[0m\u001b[0;34m,\u001b[0m \u001b[0mvalue\u001b[0m \u001b[0;32min\u001b[0m \u001b[0mdata_lexicon\u001b[0m\u001b[0;34m.\u001b[0m\u001b[0mvalues\u001b[0m\u001b[0;34m}\u001b[0m\u001b[0;34m\u001b[0m\u001b[0;34m\u001b[0m\u001b[0m\n\u001b[0;32m----> 2\u001b[0;31m \u001b[0mprint\u001b[0m\u001b[0;34m(\u001b[0m\u001b[0mlexicon_dict\u001b[0m\u001b[0;34m[\u001b[0m\u001b[0;36m0\u001b[0m\u001b[0;34m:\u001b[0m\u001b[0;36m50\u001b[0m\u001b[0;34m]\u001b[0m\u001b[0;34m)\u001b[0m\u001b[0;34m\u001b[0m\u001b[0;34m\u001b[0m\u001b[0m\n\u001b[0m",
            "\u001b[0;31mTypeError\u001b[0m: unhashable type: 'slice'"
          ]
        }
      ],
      "source": [
        "lexicon_dict = {word: value for word, value in data_lexicon.values}\n",
        "print(lexicon_dict)"
      ]
    },
    {
      "cell_type": "markdown",
      "metadata": {
        "id": "r_D7mwwk1mVd"
      },
      "source": [
        "So, all the individual word values are summed into one sentimentality value for the full text"
      ]
    },
    {
      "cell_type": "code",
      "execution_count": null,
      "metadata": {
        "colab": {
          "base_uri": "https://localhost:8080/",
          "height": 424
        },
        "id": "wSkK24x61m4I",
        "outputId": "5f22dd8b-71f5-4707-ca7f-1c94e9de0431"
      },
      "outputs": [
        {
          "data": {
            "text/html": [
              "\n",
              "  <div id=\"df-1bd7c890-322b-4736-b547-2bccd0be8a5f\">\n",
              "    <div class=\"colab-df-container\">\n",
              "      <div>\n",
              "<style scoped>\n",
              "    .dataframe tbody tr th:only-of-type {\n",
              "        vertical-align: middle;\n",
              "    }\n",
              "\n",
              "    .dataframe tbody tr th {\n",
              "        vertical-align: top;\n",
              "    }\n",
              "\n",
              "    .dataframe thead th {\n",
              "        text-align: right;\n",
              "    }\n",
              "</style>\n",
              "<table border=\"1\" class=\"dataframe\">\n",
              "  <thead>\n",
              "    <tr style=\"text-align: right;\">\n",
              "      <th></th>\n",
              "      <th>category</th>\n",
              "      <th>rating</th>\n",
              "      <th>label</th>\n",
              "      <th>text</th>\n",
              "      <th>sentiment_value</th>\n",
              "      <th>word_amount</th>\n",
              "      <th>char_amount</th>\n",
              "      <th>repetition_value</th>\n",
              "    </tr>\n",
              "  </thead>\n",
              "  <tbody>\n",
              "    <tr>\n",
              "      <th>0</th>\n",
              "      <td>Home_and_Kitchen_5</td>\n",
              "      <td>5.0</td>\n",
              "      <td>CG</td>\n",
              "      <td>Love this!  Well made, sturdy, and very comfor...</td>\n",
              "      <td>6</td>\n",
              "      <td>13</td>\n",
              "      <td>75</td>\n",
              "      <td>1.181818</td>\n",
              "    </tr>\n",
              "    <tr>\n",
              "      <th>1</th>\n",
              "      <td>Home_and_Kitchen_5</td>\n",
              "      <td>5.0</td>\n",
              "      <td>CG</td>\n",
              "      <td>love it, a great upgrade from the original.  I...</td>\n",
              "      <td>2</td>\n",
              "      <td>16</td>\n",
              "      <td>80</td>\n",
              "      <td>1.066667</td>\n",
              "    </tr>\n",
              "    <tr>\n",
              "      <th>2</th>\n",
              "      <td>Home_and_Kitchen_5</td>\n",
              "      <td>5.0</td>\n",
              "      <td>CG</td>\n",
              "      <td>This pillow saved my back. I love the look and...</td>\n",
              "      <td>1</td>\n",
              "      <td>14</td>\n",
              "      <td>66</td>\n",
              "      <td>1.166667</td>\n",
              "    </tr>\n",
              "    <tr>\n",
              "      <th>3</th>\n",
              "      <td>Home_and_Kitchen_5</td>\n",
              "      <td>1.0</td>\n",
              "      <td>CG</td>\n",
              "      <td>Missing information on how to use it, but it i...</td>\n",
              "      <td>1</td>\n",
              "      <td>17</td>\n",
              "      <td>81</td>\n",
              "      <td>1.062500</td>\n",
              "    </tr>\n",
              "    <tr>\n",
              "      <th>4</th>\n",
              "      <td>Home_and_Kitchen_5</td>\n",
              "      <td>5.0</td>\n",
              "      <td>CG</td>\n",
              "      <td>Very nice set. Good quality. We have had the s...</td>\n",
              "      <td>2</td>\n",
              "      <td>18</td>\n",
              "      <td>85</td>\n",
              "      <td>1.125000</td>\n",
              "    </tr>\n",
              "    <tr>\n",
              "      <th>...</th>\n",
              "      <td>...</td>\n",
              "      <td>...</td>\n",
              "      <td>...</td>\n",
              "      <td>...</td>\n",
              "      <td>...</td>\n",
              "      <td>...</td>\n",
              "      <td>...</td>\n",
              "      <td>...</td>\n",
              "    </tr>\n",
              "    <tr>\n",
              "      <th>40427</th>\n",
              "      <td>Clothing_Shoes_and_Jewelry_5</td>\n",
              "      <td>4.0</td>\n",
              "      <td>OR</td>\n",
              "      <td>I had read some reviews saying that this bra r...</td>\n",
              "      <td>6</td>\n",
              "      <td>329</td>\n",
              "      <td>1693</td>\n",
              "      <td>1.890805</td>\n",
              "    </tr>\n",
              "    <tr>\n",
              "      <th>40428</th>\n",
              "      <td>Clothing_Shoes_and_Jewelry_5</td>\n",
              "      <td>5.0</td>\n",
              "      <td>CG</td>\n",
              "      <td>I wasn't sure exactly what it would be. It is ...</td>\n",
              "      <td>25</td>\n",
              "      <td>273</td>\n",
              "      <td>1303</td>\n",
              "      <td>2.527778</td>\n",
              "    </tr>\n",
              "    <tr>\n",
              "      <th>40429</th>\n",
              "      <td>Clothing_Shoes_and_Jewelry_5</td>\n",
              "      <td>2.0</td>\n",
              "      <td>OR</td>\n",
              "      <td>You can wear the hood by itself, wear it with ...</td>\n",
              "      <td>4</td>\n",
              "      <td>344</td>\n",
              "      <td>1986</td>\n",
              "      <td>1.607477</td>\n",
              "    </tr>\n",
              "    <tr>\n",
              "      <th>40430</th>\n",
              "      <td>Clothing_Shoes_and_Jewelry_5</td>\n",
              "      <td>1.0</td>\n",
              "      <td>CG</td>\n",
              "      <td>I liked nothing about this dress. The only rea...</td>\n",
              "      <td>30</td>\n",
              "      <td>282</td>\n",
              "      <td>1299</td>\n",
              "      <td>2.540541</td>\n",
              "    </tr>\n",
              "    <tr>\n",
              "      <th>40431</th>\n",
              "      <td>Clothing_Shoes_and_Jewelry_5</td>\n",
              "      <td>5.0</td>\n",
              "      <td>OR</td>\n",
              "      <td>I work in the wedding industry and have to wor...</td>\n",
              "      <td>10</td>\n",
              "      <td>352</td>\n",
              "      <td>1767</td>\n",
              "      <td>2.095238</td>\n",
              "    </tr>\n",
              "  </tbody>\n",
              "</table>\n",
              "<p>40432 rows × 8 columns</p>\n",
              "</div>\n",
              "      <button class=\"colab-df-convert\" onclick=\"convertToInteractive('df-1bd7c890-322b-4736-b547-2bccd0be8a5f')\"\n",
              "              title=\"Convert this dataframe to an interactive table.\"\n",
              "              style=\"display:none;\">\n",
              "        \n",
              "  <svg xmlns=\"http://www.w3.org/2000/svg\" height=\"24px\"viewBox=\"0 0 24 24\"\n",
              "       width=\"24px\">\n",
              "    <path d=\"M0 0h24v24H0V0z\" fill=\"none\"/>\n",
              "    <path d=\"M18.56 5.44l.94 2.06.94-2.06 2.06-.94-2.06-.94-.94-2.06-.94 2.06-2.06.94zm-11 1L8.5 8.5l.94-2.06 2.06-.94-2.06-.94L8.5 2.5l-.94 2.06-2.06.94zm10 10l.94 2.06.94-2.06 2.06-.94-2.06-.94-.94-2.06-.94 2.06-2.06.94z\"/><path d=\"M17.41 7.96l-1.37-1.37c-.4-.4-.92-.59-1.43-.59-.52 0-1.04.2-1.43.59L10.3 9.45l-7.72 7.72c-.78.78-.78 2.05 0 2.83L4 21.41c.39.39.9.59 1.41.59.51 0 1.02-.2 1.41-.59l7.78-7.78 2.81-2.81c.8-.78.8-2.07 0-2.86zM5.41 20L4 18.59l7.72-7.72 1.47 1.35L5.41 20z\"/>\n",
              "  </svg>\n",
              "      </button>\n",
              "      \n",
              "  <style>\n",
              "    .colab-df-container {\n",
              "      display:flex;\n",
              "      flex-wrap:wrap;\n",
              "      gap: 12px;\n",
              "    }\n",
              "\n",
              "    .colab-df-convert {\n",
              "      background-color: #E8F0FE;\n",
              "      border: none;\n",
              "      border-radius: 50%;\n",
              "      cursor: pointer;\n",
              "      display: none;\n",
              "      fill: #1967D2;\n",
              "      height: 32px;\n",
              "      padding: 0 0 0 0;\n",
              "      width: 32px;\n",
              "    }\n",
              "\n",
              "    .colab-df-convert:hover {\n",
              "      background-color: #E2EBFA;\n",
              "      box-shadow: 0px 1px 2px rgba(60, 64, 67, 0.3), 0px 1px 3px 1px rgba(60, 64, 67, 0.15);\n",
              "      fill: #174EA6;\n",
              "    }\n",
              "\n",
              "    [theme=dark] .colab-df-convert {\n",
              "      background-color: #3B4455;\n",
              "      fill: #D2E3FC;\n",
              "    }\n",
              "\n",
              "    [theme=dark] .colab-df-convert:hover {\n",
              "      background-color: #434B5C;\n",
              "      box-shadow: 0px 1px 3px 1px rgba(0, 0, 0, 0.15);\n",
              "      filter: drop-shadow(0px 1px 2px rgba(0, 0, 0, 0.3));\n",
              "      fill: #FFFFFF;\n",
              "    }\n",
              "  </style>\n",
              "\n",
              "      <script>\n",
              "        const buttonEl =\n",
              "          document.querySelector('#df-1bd7c890-322b-4736-b547-2bccd0be8a5f button.colab-df-convert');\n",
              "        buttonEl.style.display =\n",
              "          google.colab.kernel.accessAllowed ? 'block' : 'none';\n",
              "\n",
              "        async function convertToInteractive(key) {\n",
              "          const element = document.querySelector('#df-1bd7c890-322b-4736-b547-2bccd0be8a5f');\n",
              "          const dataTable =\n",
              "            await google.colab.kernel.invokeFunction('convertToInteractive',\n",
              "                                                     [key], {});\n",
              "          if (!dataTable) return;\n",
              "\n",
              "          const docLinkHtml = 'Like what you see? Visit the ' +\n",
              "            '<a target=\"_blank\" href=https://colab.research.google.com/notebooks/data_table.ipynb>data table notebook</a>'\n",
              "            + ' to learn more about interactive tables.';\n",
              "          element.innerHTML = '';\n",
              "          dataTable['output_type'] = 'display_data';\n",
              "          await google.colab.output.renderOutput(dataTable, element);\n",
              "          const docLink = document.createElement('div');\n",
              "          docLink.innerHTML = docLinkHtml;\n",
              "          element.appendChild(docLink);\n",
              "        }\n",
              "      </script>\n",
              "    </div>\n",
              "  </div>\n",
              "  "
            ],
            "text/plain": [
              "                           category  rating  ... char_amount repetition_value\n",
              "0                Home_and_Kitchen_5     5.0  ...          75         1.181818\n",
              "1                Home_and_Kitchen_5     5.0  ...          80         1.066667\n",
              "2                Home_and_Kitchen_5     5.0  ...          66         1.166667\n",
              "3                Home_and_Kitchen_5     1.0  ...          81         1.062500\n",
              "4                Home_and_Kitchen_5     5.0  ...          85         1.125000\n",
              "...                             ...     ...  ...         ...              ...\n",
              "40427  Clothing_Shoes_and_Jewelry_5     4.0  ...        1693         1.890805\n",
              "40428  Clothing_Shoes_and_Jewelry_5     5.0  ...        1303         2.527778\n",
              "40429  Clothing_Shoes_and_Jewelry_5     2.0  ...        1986         1.607477\n",
              "40430  Clothing_Shoes_and_Jewelry_5     1.0  ...        1299         2.540541\n",
              "40431  Clothing_Shoes_and_Jewelry_5     5.0  ...        1767         2.095238\n",
              "\n",
              "[40432 rows x 8 columns]"
            ]
          },
          "execution_count": 7,
          "metadata": {},
          "output_type": "execute_result"
        }
      ],
      "source": [
        "texts = data['text']\n",
        "\n",
        "sentimentalities = []\n",
        "char_amounts = []\n",
        "word_amounts = []\n",
        "repetitions = []\n",
        "for text in texts: #type: ignore\n",
        "    sentimentality = 0\n",
        "\n",
        "    for punc in punctuations:\n",
        "        text = text.replace(punc, ' ')\n",
        "    text = text.strip()\n",
        "    words = text.split(' ')\n",
        "    words = [w.lower() for w in words if w]\n",
        "\n",
        "    for word in words:\n",
        "        sentimentality += lexicon_dict.get(word, 0)\n",
        "\n",
        "    char_amount = len(text)\n",
        "    word_amount = len(words)\n",
        "    repetition = word_amount/max((len(np.unique(words)), 1))\n",
        "\n",
        "    sentimentalities.append(sentimentality)\n",
        "    char_amounts.append(char_amount)\n",
        "    word_amounts.append(word_amount)\n",
        "    repetitions.append(repetition)\n",
        "    \n",
        "    \n",
        "data['sentiment_value'] = sentimentalities #type: ignore\n",
        "data['word_amount'] = word_amounts #type: ignore\n",
        "data['char_amount'] = char_amounts #type: ignore\n",
        "data['repetition_value'] = repetitions #type: ignore\n",
        "\n",
        "data"
      ]
    },
    {
      "cell_type": "code",
      "execution_count": null,
      "metadata": {
        "colab": {
          "base_uri": "https://localhost:8080/"
        },
        "id": "0vhH6dzQ-wIv",
        "outputId": "41358d48-3c22-46f5-d800-9fce4c0987d3"
      },
      "outputs": [
        {
          "name": "stdout",
          "output_type": "stream",
          "text": [
            "20216\n",
            "20216\n"
          ]
        }
      ],
      "source": [
        "print(len(data[data.label == 'CG']))\n",
        "print(len(data[data.label == 'OR']))"
      ]
    },
    {
      "cell_type": "code",
      "execution_count": null,
      "metadata": {
        "colab": {
          "base_uri": "https://localhost:8080/"
        },
        "id": "qoYruz8i7fUp",
        "outputId": "de81b67d-9ee1-4d4e-9815-0f1a02e472b4"
      },
      "outputs": [
        {
          "name": "stdout",
          "output_type": "stream",
          "text": [
            "Puntaje con test 0.1 : 0.6772997032640949\n",
            "Puntaje con test 0.2 : 0.6819586991467788\n",
            "Puntaje con test 0.3 : 0.6753503709810388\n",
            "Puntaje con test 0.4 : 0.6746429233908365\n"
          ]
        }
      ],
      "source": [
        "from sklearn.svm import SVC\n",
        "from sklearn.model_selection import train_test_split\n",
        "\n",
        "data.replace(to_replace='CG', value=0)\n",
        "data.replace(to_replace='OR', value=1)\n",
        "\n",
        "X = data[['rating', 'word_amount', 'char_amount', 'sentiment_value', 'repetition_value']]\n",
        "y = data['label']\n",
        "\n",
        "for t_size in [0.1, 0.2, 0.3, 0.4]:\n",
        "  x_train, x_test, y_train, y_test = train_test_split(X, y, test_size=t_size)\n",
        "  #Cross_validation\n",
        "  #Test más grandes, diferentes particiones y pruebas\n",
        "  #Patrón del bot\n",
        "  est = SVC()\n",
        "  est.fit(x_train, y_train)\n",
        "  score = est.score(x_test, y_test)\n",
        "\n",
        "  print(f'Puntaje con test {t_size} : {score}')\n",
        "  "
      ]
    },
    {
      "cell_type": "markdown",
      "metadata": {
        "id": "VbgGwfGtek3q"
      },
      "source": [
        "## Cross validation"
      ]
    },
    {
      "cell_type": "code",
      "execution_count": null,
      "metadata": {
        "colab": {
          "base_uri": "https://localhost:8080/"
        },
        "id": "kwmQE4Zzej6g",
        "outputId": "22f9f21d-6fec-41bb-e18b-464b72f7e732"
      },
      "outputs": [
        {
          "name": "stdout",
          "output_type": "stream",
          "text": [
            "[0.69263106 0.6760633  0.6935444  0.67895127 0.68290873 0.66806827\n",
            " 0.69032896 0.68538214 0.69107099 0.67820925]\n",
            "accuracy 0.684 (+/- 0.00796)\n"
          ]
        }
      ],
      "source": [
        "from sklearn.model_selection import KFold\n",
        "from sklearn.model_selection import cross_val_score\n",
        "from sklearn.metrics import accuracy_score, make_scorer\n",
        "\n",
        "s = cross_val_score(est, X, y, cv=KFold(10, shuffle=True), scoring=make_scorer(accuracy_score))\n",
        "print (s)\n",
        "print (\"accuracy %.3f (+/- %.5f)\"%(np.mean(s), np.std(s)))"
      ]
    },
    {
      "cell_type": "code",
      "execution_count": null,
      "metadata": {
        "colab": {
          "base_uri": "https://localhost:8080/"
        },
        "id": "CJPpasaM80q8",
        "outputId": "4b4d965b-0943-4881-bfc3-4ef79e9bcc30"
      },
      "outputs": [
        {
          "data": {
            "text/plain": [
              "0.7933593025412725"
            ]
          },
          "execution_count": 11,
          "metadata": {},
          "output_type": "execute_result"
        }
      ],
      "source": [
        "from sklearn.tree import DecisionTreeClassifier\n",
        "\n",
        "estTree = DecisionTreeClassifier(max_depth=15)\n",
        "estTree.fit(x_train, y_train)\n",
        "estTree.score(x_test, y_test)"
      ]
    },
    {
      "cell_type": "code",
      "execution_count": null,
      "metadata": {
        "colab": {
          "base_uri": "https://localhost:8080/"
        },
        "id": "-8igUz7P9IKz",
        "outputId": "7993371b-a551-40c5-81b0-fff8a787fe68"
      },
      "outputs": [
        {
          "data": {
            "text/plain": [
              "array([0.02524755, 0.10577171, 0.42601208, 0.06364089, 0.37932778])"
            ]
          },
          "execution_count": 12,
          "metadata": {},
          "output_type": "execute_result"
        }
      ],
      "source": [
        "estTree.feature_importances_"
      ]
    }
  ],
  "metadata": {
    "colab": {
      "collapsed_sections": [],
      "name": "WhoReviewsTheReviews.ipynb",
      "provenance": []
    },
    "kernelspec": {
      "display_name": "Python 3",
      "name": "python3"
    },
    "language_info": {
      "codemirror_mode": {
        "name": "ipython",
        "version": 3
      },
      "file_extension": ".py",
      "mimetype": "text/x-python",
      "name": "python",
      "nbconvert_exporter": "python",
      "pygments_lexer": "ipython3",
      "version": "3.9.1"
    }
  },
  "nbformat": 4,
  "nbformat_minor": 0
}
