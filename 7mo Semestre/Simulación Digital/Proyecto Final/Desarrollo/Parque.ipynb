{
 "cells": [
  {
   "cell_type": "markdown",
   "metadata": {},
   "source": [
    "# SimuPark: Un parque simulado\n",
    "\n",
    "Desarrollado por: \n",
    "> Daniel David Delgado Cervantes - 2182066"
   ]
  },
  {
   "cell_type": "markdown",
   "metadata": {},
   "source": []
  },
  {
   "cell_type": "code",
   "execution_count": 1,
   "metadata": {},
   "outputs": [
    {
     "name": "stdout",
     "output_type": "stream",
     "text": [
      "59.03734782801262\n"
     ]
    },
    {
     "data": {
      "image/png": "[encoded data removed]",
      "text/plain": [
       "<Figure size 432x288 with 1 Axes>"
      ]
     },
     "metadata": {
      "needs_background": "light"
     },
     "output_type": "display_data"
    }
   ],
   "source": [
    "from matplotlib.pyplot import plot, hist\n",
    "import numpy as np\n",
    "from scipy.special import gamma, factorial\n",
    "\n",
    "\n",
    "x = np.linspace(0, 11, 11*60)\n",
    "k = 3\n",
    "fn = lambda x, k: (np.power(x + 30/60, k-1) * np.exp(-x - 30/60) / gamma(k))\n",
    "print(sum(fn(x, k)))\n",
    "\n",
    "plot(x, fn(x,k));"
   ]
  },
  {
   "cell_type": "code",
   "execution_count": 2,
   "metadata": {},
   "outputs": [
    {
     "name": "stdout",
     "output_type": "stream",
     "text": [
      "14301\n",
      "['Walk15', 'Walk10', 'ShopGifts', 'EatRestaurant', 'BathroomBreak', 'TakePictures']\n",
      "['Dropper', 'Tornado', 'BumpCars', 'SlowRiver', 'StarWarsRide', 'SpaceMountain']\n",
      "['Tourist']\n"
     ]
    },
    {
     "data": {
      "image/png": "[encoded data removed]",
      "text/plain": [
       "<Figure size 432x288 with 1 Axes>"
      ]
     },
     "metadata": {
      "needs_background": "light"
     },
     "output_type": "display_data"
    }
   ],
   "source": [
    "from simuPark.park import Activity, Attraction, Park\n",
    "from simuPark.person import Person, Archetype\n",
    "import random\n",
    "\n",
    "# np.random.seed(41)\n",
    "\n",
    "park = Park(\n",
    "    function=fn\n",
    ")\n",
    "\n",
    "park.startDayBase(150000)\n",
    "\n",
    "print(len(park.guests))\n",
    "\n",
    "y = [guest.arrivalTime for guest in park.guests]\n",
    "\n",
    "hist(y);\n",
    "\n",
    "print([i.name for i in park.activities])\n",
    "print([i.name for i in park.attractions])\n",
    "print([i.name for i in park.guestArchetypes])"
   ]
  },
  {
   "cell_type": "code",
   "execution_count": 10,
   "metadata": {},
   "outputs": [
    {
     "name": "stdout",
     "output_type": "stream",
     "text": [
      "11\n",
      "548\n",
      "105\n",
      "7\n",
      "11\n",
      "349\n",
      "114\n",
      "3\n",
      "11\n",
      "371\n",
      "232\n",
      "7\n"
     ]
    }
   ],
   "source": [
    "i = 3\n",
    "for n in range(i):\n",
    "    print(park.guests[n].arrivalTime) \n",
    "    print(park.guests[n].departureTime) \n",
    "    print(park.guests[n].totalWaitTime)\n",
    "    print(park.guests[n].attractionsExperienced)\n",
    "    print('')"
   ]
  }
 ],
 "metadata": {
  "interpreter": {
   "hash": "3bea5e62536b457a2c0e293db0957b2f3e7b164e736797e6da376d1c1af548df"
  },
  "kernelspec": {
   "display_name": "Python 3.9.1 64-bit ('base': conda)",
   "language": "python",
   "name": "python3"
  },
  "language_info": {
   "codemirror_mode": {
    "name": "ipython",
    "version": 3
   },
   "file_extension": ".py",
   "mimetype": "text/x-python",
   "name": "python",
   "nbconvert_exporter": "python",
   "pygments_lexer": "ipython3",
   "version": "3.10.1"
  },
  "orig_nbformat": 4
 },
 "nbformat": 4,
 "nbformat_minor": 2
}
