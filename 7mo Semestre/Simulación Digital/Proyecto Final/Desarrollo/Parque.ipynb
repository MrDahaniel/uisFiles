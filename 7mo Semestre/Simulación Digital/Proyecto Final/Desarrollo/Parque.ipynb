{
 "cells": [
  {
   "cell_type": "markdown",
   "metadata": {},
   "source": [
    "# SimuPark: Un parque simulado\n",
    "\n",
    "Desarrollado por: \n",
    "> Daniel David Delgado Cervantes - 2182066"
   ]
  },
  {
   "cell_type": "code",
   "execution_count": 8,
   "metadata": {},
   "outputs": [],
   "source": [
    "from simuPark.park import Activity, Attraction, Park\n",
    "from simuPark.person import Person, Archetype"
   ]
  }
 ],
 "metadata": {
  "interpreter": {
   "hash": "3bea5e62536b457a2c0e293db0957b2f3e7b164e736797e6da376d1c1af548df"
  },
  "kernelspec": {
   "display_name": "Python 3.9.1 64-bit ('base': conda)",
   "language": "python",
   "name": "python3"
  },
  "language_info": {
   "codemirror_mode": {
    "name": "ipython",
    "version": 3
   },
   "file_extension": ".py",
   "mimetype": "text/x-python",
   "name": "python",
   "nbconvert_exporter": "python",
   "pygments_lexer": "ipython3",
   "version": "3.9.1"
  },
  "orig_nbformat": 4
 },
 "nbformat": 4,
 "nbformat_minor": 2
}
