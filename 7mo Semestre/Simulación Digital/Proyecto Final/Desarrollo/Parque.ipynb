{
 "cells": [
  {
   "cell_type": "markdown",
   "metadata": {},
   "source": [
    "# SimuPark: Un parque simulado\n",
    "\n",
    "Desarrollado por: \n",
    "> Daniel David Delgado Cervantes - 2182066"
   ]
  },
  {
   "cell_type": "code",
   "execution_count": null,
   "metadata": {},
   "outputs": [],
   "source": [
    "from matplotlib.pyplot import plot, hist\n",
    "import numpy as np\n",
    "from scipy.special import gamma, factorial\n",
    "import pandas as pd\n",
    "\n",
    "\n",
    "x = np.linspace(0, 11, 11*60)\n",
    "k = 3\n",
    "fn = lambda x, k: (np.power(x + 30/60, k-1) * np.exp(-x - 30/60) / gamma(k))\n",
    "print(sum(fn(x, k)))\n",
    "\n",
    "plot(x, fn(x,k));"
   ]
  },
  {
   "cell_type": "code",
   "execution_count": null,
   "metadata": {},
   "outputs": [],
   "source": [
    "from simuPark.park import Activity, Attraction, Park\n",
    "from simuPark.person import Person, Archetype\n",
    "import random\n",
    "\n",
    "# np.random.seed(41)\n",
    "\n",
    "park = Park(\n",
    "    function=fn\n",
    ")\n",
    "\n",
    "park.startDayBase(300000)\n",
    "\n",
    "print(len(park.guests))\n",
    "\n",
    "y = [guest.arrivalTime for guest in park.guests]\n",
    "\n",
    "hist(y);\n",
    "\n",
    "print([i.name for i in park.activities])\n",
    "print([i.name for i in park.attractions])\n",
    "print([i.name for i in park.guestArchetypes])"
   ]
  },
  {
   "cell_type": "code",
   "execution_count": null,
   "metadata": {},
   "outputs": [],
   "source": [
    "guestData = []\n",
    "columnName = [\n",
    "    'arrivalTime',\n",
    "    'departureTime',\n",
    "    'timeInPark',\n",
    "    'maxWait',\n",
    "    'attractionsExperienced',\n",
    "    'totalWaitTime',\n",
    "    'averageWaitTime',\n",
    "    # 'thingsDone',\n",
    "    ]\n",
    "for guest in park.guests:\n",
    "    curGuest = []\n",
    "\n",
    "    curGuest.append(guest.arrivalTime)\n",
    "    curGuest.append(guest.departureTime)\n",
    "    curGuest.append(guest.departureTime - guest.arrivalTime)\n",
    "    curGuest.append(guest.maxWait)\n",
    "    curGuest.append(guest.attractionsExperienced)\n",
    "    curGuest.append(guest.totalWaitTime)\n",
    "    if guest.attractionsExperienced == 0:\n",
    "        curGuest.append(0)\n",
    "    else: \n",
    "        curGuest.append(guest.totalWaitTime / guest.attractionsExperienced)\n",
    "    # curGuest.append(guest.thingsDone)\n",
    "\n",
    "    guestData.append(curGuest)\n",
    "\n",
    "guestDF = pd.DataFrame(guestData, columns=columnName)\n",
    "guestDF.head()"
   ]
  },
  {
   "cell_type": "code",
   "execution_count": null,
   "metadata": {},
   "outputs": [],
   "source": [
    "attrExp = [guest.attractionsExperienced for guest in park.guests]\n",
    "attrExp\n",
    "hist(attrExp, bins=20, density=True);"
   ]
  },
  {
   "cell_type": "code",
   "execution_count": null,
   "metadata": {},
   "outputs": [],
   "source": [
    "avgWaitTime = []\n",
    "\n",
    "for guest in park.guests:\n",
    "    if guest.attractionsExperienced == 0:\n",
    "        continue\n",
    "\n",
    "    avgWaitTime.append(guest.totalWaitTime / guest.attractionsExperienced)\n",
    "\n",
    "print(np.mean(avgWaitTime))\n",
    "hist(avgWaitTime, density=True);\n",
    "\n"
   ]
  },
  {
   "cell_type": "code",
   "execution_count": null,
   "metadata": {},
   "outputs": [],
   "source": [
    "attrWaitTime = [[attr.name, attr.queue.topWaitTime] for attr in park.attractions]\n",
    "attrDF = pd.DataFrame(attrWaitTime, columns=[\"Name\", \"MaximunWaitTime\"])\n",
    "attrDF"
   ]
  }
 ],
 "metadata": {
  "interpreter": {
   "hash": "3bea5e62536b457a2c0e293db0957b2f3e7b164e736797e6da376d1c1af548df"
  },
  "kernelspec": {
   "display_name": "Python 3.9.1 64-bit ('base': conda)",
   "language": "python",
   "name": "python3"
  },
  "language_info": {
   "codemirror_mode": {
    "name": "ipython",
    "version": 3
   },
   "file_extension": ".py",
   "mimetype": "text/x-python",
   "name": "python",
   "nbconvert_exporter": "python",
   "pygments_lexer": "ipython3",
   "version": "3.9.1"
  },
  "orig_nbformat": 4
 },
 "nbformat": 4,
 "nbformat_minor": 2
}
